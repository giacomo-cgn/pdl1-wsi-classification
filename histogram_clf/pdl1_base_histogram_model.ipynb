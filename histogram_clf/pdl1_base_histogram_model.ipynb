{
  "nbformat": 4,
  "nbformat_minor": 0,
  "metadata": {
    "colab": {
      "provenance": []
    },
    "kernelspec": {
      "name": "python3",
      "display_name": "Python 3"
    },
    "language_info": {
      "name": "python"
    }
  },
  "cells": [
    {
      "cell_type": "code",
      "execution_count": null,
      "metadata": {
        "id": "-QYHozvkXldw"
      },
      "outputs": [],
      "source": [
        "import numpy as np\n",
        "import matplotlib.pyplot as plt\n",
        "from sklearn.model_selection import cross_val_score, KFold, cross_val_score, StratifiedKFold\n",
        "from sklearn.metrics import accuracy_score, f1_score, confusion_matrix\n"
      ]
    },
    {
      "cell_type": "code",
      "source": [
        "data_dir = '/content/drive/MyDrive/data/PD-L1 pixel distance'\n",
        "#hist_dir = '/content/drive/MyDrive/data/hist/denormalized'\n",
        "#hist_dir = '/content/drive/MyDrive/data/hist/denorm_manual_artifact_red'\n",
        "hist_dir = './denorm_manual_artifact_red'"
      ],
      "metadata": {
        "id": "xwi7tjQrXqNY"
      },
      "execution_count": null,
      "outputs": []
    },
    {
      "cell_type": "code",
      "source": [
        "results_dict = {'19-COMP-004': 1, '19-COMP-011': 1, '19-COMP-012': 1, '19-COMP-014': 1,\n",
        "                '19-COMP-016': 1, '19-COMP-019': 1, '19-COMP-026': 1, '19-COMP-029': 1,\n",
        "                '19-COMP-030': 1, '19-COMP-032': 1, '19-COMP-034': 1, '19-COMP-037': 1,\n",
        "                '20-COMP-050': 1, '20-COMP-052': 1, '20-COMP-054': 1, '20-COMP-071': 1,\n",
        "                '20-COMP-088': 1, '20-COMP-102': 1, '20-COMP-103': 1, '20-COMP-113': 1,\n",
        "                '19-COMP-017': 0, '19-COMP-020': 0, '19-COMP-021': 0, '19-COMP-036': 0,\n",
        "                '19-COMP-039': 0, '19-COMP-044': 0, '19-COMP-047': 0, '20-COMP-055': 0,\n",
        "                '20-COMP-056': 0, '20-COMP-059': 0, '20-COMP-063': 0, '20-COMP-065': 0,\n",
        "                '20-COMP-066': 0, '20-COMP-068': 0, '20-COMP-070': 0, '20-COMP-073': 0,\n",
        "                '20-COMP-075': 0, '20-COMP-076': 0, '20-COMP-077': 0, '20-COMP-078': 0}"
      ],
      "metadata": {
        "id": "HOBu_AD9XtSK"
      },
      "execution_count": null,
      "outputs": []
    },
    {
      "cell_type": "code",
      "source": [
        "tr_set = ['19-COMP-004', '19-COMP-011', '19-COMP-012', '19-COMP-014', '19-COMP-016',\n",
        "          '19-COMP-019', '19-COMP-029', '19-COMP-030', '19-COMP-032', '19-COMP-034',\n",
        "          '20-COMP-050', '20-COMP-052', '20-COMP-054', '20-COMP-071', '20-COMP-088',\n",
        "          '20-COMP-103', '20-COMP-113', '19-COMP-017', '19-COMP-020', '19-COMP-021',\n",
        "          '19-COMP-044', '19-COMP-047', '20-COMP-055', '20-COMP-056', '20-COMP-059',\n",
        "          '20-COMP-063', '20-COMP-066', '20-COMP-068', '20-COMP-070', '20-COMP-073',\n",
        "          '20-COMP-075', '20-COMP-076', '20-COMP-078']\n",
        "\n",
        "ts_set = ['20-COMP-077', '20-COMP-065', '19-COMP-039', '20-COMP-102', '19-COMP-037', '19-COMP-026']"
      ],
      "metadata": {
        "id": "-XcJooiUXuvF"
      },
      "execution_count": null,
      "outputs": []
    },
    {
      "cell_type": "code",
      "source": [
        "def add_padding(hist):\n",
        "  return np.pad(hist, (0, 100-len(hist)), 'constant')"
      ],
      "metadata": {
        "id": "BQC7cl4VKTbI"
      },
      "execution_count": null,
      "outputs": []
    },
    {
      "cell_type": "code",
      "source": [
        "def get_log_hist(hist):\n",
        "    log_hist = np.log10(hist) + 8\n",
        "    #min_bin = np.min(log_hist)\n",
        "    #log_hist = log_hist - min_bin\n",
        "    return log_hist"
      ],
      "metadata": {
        "id": "r1oPX5x0X7bG"
      },
      "execution_count": null,
      "outputs": []
    },
    {
      "cell_type": "markdown",
      "source": [
        "Import slides and add log scale and padding to 100 bins"
      ],
      "metadata": {
        "id": "GDukY5DCPSkE"
      }
    },
    {
      "cell_type": "code",
      "source": [
        "def import_histograms(tr_set, ts_set):\n",
        "  num_bins = 100\n",
        "\n",
        "  # Training set\n",
        "  histograms_tr = []\n",
        "  for i, slide_name in enumerate(tr_set):\n",
        "      histograms_tr.append(add_padding(get_log_hist(np.load(hist_dir+'/'+slide_name+'_bins_denorm_100r0.95.npy'))))\n",
        "      print(slide_name)\n",
        "\n",
        "  targets_tr = np.zeros(np.shape(tr_set), dtype='int')\n",
        "  for i, slide_name in enumerate(tr_set):\n",
        "    targets_tr[i] = results_dict[slide_name]\n",
        "\n",
        "  # Test set\n",
        "  histograms_ts = []\n",
        "  for i, slide_name in enumerate(ts_set):\n",
        "    histograms_ts.append(add_padding(get_log_hist(np.load(hist_dir+'/'+slide_name+'_bins_denorm_100r0.95.npy'))))\n",
        "    print(slide_name)\n",
        "\n",
        "  targets_ts = np.zeros(np.shape(ts_set), dtype='int')\n",
        "  for i, slide_name in enumerate(ts_set):\n",
        "    targets_ts[i] = results_dict[slide_name]\n",
        "  \n",
        "  return histograms_tr, histograms_ts, targets_tr, targets_ts"
      ],
      "metadata": {
        "id": "cvLh1cbNXzq6"
      },
      "execution_count": null,
      "outputs": []
    },
    {
      "cell_type": "code",
      "source": [
        "histograms_tr, histograms_ts, targets_tr, targets_ts = import_histograms(tr_set, ts_set)"
      ],
      "metadata": {
        "colab": {
          "base_uri": "https://localhost:8080/"
        },
        "id": "SbIBvHrYGDSs",
        "outputId": "1c9a01f5-5014-4d14-ee26-af1ab4791acb"
      },
      "execution_count": null,
      "outputs": [
        {
          "output_type": "stream",
          "name": "stdout",
          "text": [
            "19-COMP-004\n",
            "19-COMP-011\n",
            "19-COMP-012\n",
            "19-COMP-014\n",
            "19-COMP-016\n",
            "19-COMP-019\n",
            "19-COMP-029\n",
            "19-COMP-030\n",
            "19-COMP-032\n",
            "19-COMP-034\n",
            "20-COMP-050\n",
            "20-COMP-052\n",
            "20-COMP-054\n",
            "20-COMP-071\n",
            "20-COMP-088\n",
            "20-COMP-103\n",
            "20-COMP-113\n",
            "19-COMP-017\n",
            "19-COMP-020\n",
            "19-COMP-021\n",
            "19-COMP-044\n",
            "19-COMP-047\n",
            "20-COMP-055\n",
            "20-COMP-056\n",
            "20-COMP-059\n",
            "20-COMP-063\n",
            "20-COMP-066\n",
            "20-COMP-068\n",
            "20-COMP-070\n",
            "20-COMP-073\n",
            "20-COMP-075\n",
            "20-COMP-076\n",
            "20-COMP-078\n",
            "20-COMP-077\n",
            "20-COMP-065\n",
            "19-COMP-039\n",
            "20-COMP-102\n",
            "19-COMP-037\n",
            "19-COMP-026\n"
          ]
        }
      ]
    },
    {
      "cell_type": "markdown",
      "source": [
        "Show slides log + padded histograms"
      ],
      "metadata": {
        "id": "0eSsmZy8PYy_"
      }
    },
    {
      "cell_type": "code",
      "source": [
        "for i, slide_name in enumerate(tr_set):    \n",
        "  plt.bar(x=range(len(histograms_tr[i])), height=histograms_tr[i], color='brown', width=1.0)\n",
        "  if results_dict[slide_name]:\n",
        "    title='POSITIVE - ' + slide_name\n",
        "  else:\n",
        "    title='NEGATIVE - ' + slide_name\n",
        "  \n",
        "  plt.rcParams[\"figure.figsize\"] = (10, 4)  \n",
        "  ax = plt.gca()\n",
        "  # xticks setting to be empty\n",
        "  ax.axes.yaxis.set_ticklabels([])  \n",
        "  plt.title(title)\n",
        "  plt.show()"
      ],
      "metadata": {
        "colab": {
          "base_uri": "https://localhost:8080/",
          "height": 1000
        },
        "id": "yh4jzD4UYHDP",
        "outputId": "f13673c7-ba6e-4477-890e-4fd188dcfb69"
      },
      "execution_count": null,
      "outputs": [
        {
          "output_type": "display_data",
          "data": {
            "text/plain": [
              "<Figure size 720x360 with 1 Axes>"
            ],
            "image/png": "[encoded data removed]"
          },
          "metadata": {
            "needs_background": "light"
          }
        },
        {
          "output_type": "display_data",
          "data": {
            "text/plain": [
              "<Figure size 720x288 with 1 Axes>"
            ],
            "image/png": "[encoded data removed]"
          },
          "metadata": {
            "needs_background": "light"
          }
        },
        {
          "output_type": "display_data",
          "data": {
            "text/plain": [
              "<Figure size 720x288 with 1 Axes>"
            ],
            "image/png": "[encoded data removed]"
          },
          "metadata": {
            "needs_background": "light"
          }
        },
        {
          "output_type": "display_data",
          "data": {
            "text/plain": [
              "<Figure size 720x288 with 1 Axes>"
            ],
            "image/png": "[encoded data removed]"
          },
          "metadata": {
            "needs_background": "light"
          }
        },
        {
          "output_type": "display_data",
          "data": {
            "text/plain": [
              "<Figure size 720x288 with 1 Axes>"
            ],
            "image/png": "[encoded data removed]"
          },
          "metadata": {
            "needs_background": "light"
          }
        },
        {
          "output_type": "display_data",
          "data": {
            "text/plain": [
              "<Figure size 720x288 with 1 Axes>"
            ],
            "image/png": "[encoded data removed]"
          },
          "metadata": {
            "needs_background": "light"
          }
        },
        {
          "output_type": "display_data",
          "data": {
            "text/plain": [
              "<Figure size 720x288 with 1 Axes>"
            ],
            "image/png": "[encoded data removed]"
          },
          "metadata": {
            "needs_background": "light"
          }
        },
        {
          "output_type": "display_data",
          "data": {
            "text/plain": [
              "<Figure size 720x288 with 1 Axes>"
            ],
            "image/png": "[encoded data removed]"
          },
          "metadata": {
            "needs_background": "light"
          }
        },
        {
          "output_type": "display_data",
          "data": {
            "text/plain": [
              "<Figure size 720x288 with 1 Axes>"
            ],
            "image/png": "[encoded data removed]"
          },
          "metadata": {
            "needs_background": "light"
          }
        },
        {
          "output_type": "display_data",
          "data": {
            "text/plain": [
              "<Figure size 720x288 with 1 Axes>"
            ],
            "image/png": "[encoded data removed]"
          },
          "metadata": {
            "needs_background": "light"
          }
        },
        {
          "output_type": "display_data",
          "data": {
            "text/plain": [
              "<Figure size 720x288 with 1 Axes>"
            ],
            "image/png": "[encoded data removed]"
          },
          "metadata": {
            "needs_background": "light"
          }
        },
        {
          "output_type": "display_data",
          "data": {
            "text/plain": [
              "<Figure size 720x288 with 1 Axes>"
            ],
            "image/png": "[encoded data removed]"
          },
          "metadata": {
            "needs_background": "light"
          }
        },
        {
          "output_type": "display_data",
          "data": {
            "text/plain": [
              "<Figure size 720x288 with 1 Axes>"
            ],
            "image/png": "[encoded data removed]"
          },
          "metadata": {
            "needs_background": "light"
          }
        },
        {
          "output_type": "display_data",
          "data": {
            "text/plain": [
              "<Figure size 720x288 with 1 Axes>"
            ],
            "image/png": "[encoded data removed]"
          },
          "metadata": {
            "needs_background": "light"
          }
        },
        {
          "output_type": "display_data",
          "data": {
            "text/plain": [
              "<Figure size 720x288 with 1 Axes>"
            ],
            "image/png": "[encoded data removed]"
          },
          "metadata": {
            "needs_background": "light"
          }
        },
        {
          "output_type": "display_data",
          "data": {
            "text/plain": [
              "<Figure size 720x288 with 1 Axes>"
            ],
            "image/png": "[encoded data removed]"
          },
          "metadata": {
            "needs_background": "light"
          }
        },
        {
          "output_type": "display_data",
          "data": {
            "text/plain": [
              "<Figure size 720x288 with 1 Axes>"
            ],
            "image/png": "[encoded data removed]"
          },
          "metadata": {
            "needs_background": "light"
          }
        },
        {
          "output_type": "display_data",
          "data": {
            "text/plain": [
              "<Figure size 720x288 with 1 Axes>"
            ],
            "image/png": "[encoded data removed]"
          },
          "metadata": {
            "needs_background": "light"
          }
        },
        {
          "output_type": "display_data",
          "data": {
            "text/plain": [
              "<Figure size 720x288 with 1 Axes>"
            ],
            "image/png": "[encoded data removed]"
          },
          "metadata": {
            "needs_background": "light"
          }
        },
        {
          "output_type": "display_data",
          "data": {
            "text/plain": [
              "<Figure size 720x288 with 1 Axes>"
            ],
            "image/png": "[encoded data removed]"
          },
          "metadata": {
            "needs_background": "light"
          }
        },
        {
          "output_type": "display_data",
          "data": {
            "text/plain": [
              "<Figure size 720x288 with 1 Axes>"
            ],
            "image/png": "[encoded data removed]"
          },
          "metadata": {
            "needs_background": "light"
          }
        },
        {
          "output_type": "display_data",
          "data": {
            "text/plain": [
              "<Figure size 720x288 with 1 Axes>"
            ],
            "image/png": "[encoded data removed]"
          },
          "metadata": {
            "needs_background": "light"
          }
        },
        {
          "output_type": "display_data",
          "data": {
            "text/plain": [
              "<Figure size 720x288 with 1 Axes>"
            ],
            "image/png": "[encoded data removed]"
          },
          "metadata": {
            "needs_background": "light"
          }
        },
        {
          "output_type": "display_data",
          "data": {
            "text/plain": [
              "<Figure size 720x288 with 1 Axes>"
            ],
            "image/png": "[encoded data removed]"
          },
          "metadata": {
            "needs_background": "light"
          }
        },
        {
          "output_type": "display_data",
          "data": {
            "text/plain": [
              "<Figure size 720x288 with 1 Axes>"
            ],
            "image/png": "[encoded data removed]"
          },
          "metadata": {
            "needs_background": "light"
          }
        },
        {
          "output_type": "display_data",
          "data": {
            "text/plain": [
              "<Figure size 720x288 with 1 Axes>"
            ],
            "image/png": "[encoded data removed]"
          },
          "metadata": {
            "needs_background": "light"
          }
        },
        {
          "output_type": "display_data",
          "data": {
            "text/plain": [
              "<Figure size 720x288 with 1 Axes>"
            ],
            "image/png": "[encoded data removed]"
          },
          "metadata": {
            "needs_background": "light"
          }
        },
        {
          "output_type": "display_data",
          "data": {
            "text/plain": [
              "<Figure size 720x288 with 1 Axes>"
            ],
            "image/png": "[encoded data removed]"
          },
          "metadata": {
            "needs_background": "light"
          }
        },
        {
          "output_type": "display_data",
          "data": {
            "text/plain": [
              "<Figure size 720x288 with 1 Axes>"
            ],
            "image/png": "[encoded data removed]"
          },
          "metadata": {
            "needs_background": "light"
          }
        },
        {
          "output_type": "display_data",
          "data": {
            "text/plain": [
              "<Figure size 720x288 with 1 Axes>"
            ],
            "image/png": "[encoded data removed]"
          },
          "metadata": {
            "needs_background": "light"
          }
        },
        {
          "output_type": "display_data",
          "data": {
            "text/plain": [
              "<Figure size 720x288 with 1 Axes>"
            ],
            "image/png": "[encoded data removed]"
          },
          "metadata": {
            "needs_background": "light"
          }
        },
        {
          "output_type": "display_data",
          "data": {
            "text/plain": [
              "<Figure size 720x288 with 1 Axes>"
            ],
            "image/png": "[encoded data removed]"
          },
          "metadata": {
            "needs_background": "light"
          }
        },
        {
          "output_type": "display_data",
          "data": {
            "text/plain": [
              "<Figure size 720x288 with 1 Axes>"
            ],
            "image/png": "[encoded data removed]"
          },
          "metadata": {
            "needs_background": "light"
          }
        }
      ]
    },
    {
      "cell_type": "code",
      "source": [
        "def find_classification_threshold(perc_arr, targets):\n",
        "    min_errors_threshold = 0\n",
        "    min_errors = len(targets)\n",
        "    \n",
        "    #set threshold at every score in result percentages array\n",
        "    for perc in perc_arr:\n",
        "        classification_threshold = round(perc, 5)\n",
        "        errors = 0\n",
        "\n",
        "        for i, target in enumerate(targets):\n",
        "            score = perc_arr[i]\n",
        "            if score < classification_threshold:\n",
        "                if target != 0:\n",
        "                   errors+=1\n",
        "            else:\n",
        "                if target != 1:\n",
        "                   errors+=1\n",
        "        \n",
        "        if errors <= min_errors:\n",
        "            min_errors = errors\n",
        "            min_errors_threshold = classification_threshold\n",
        "        \n",
        "    return (min_errors_threshold, min_errors)"
      ],
      "metadata": {
        "id": "rAsnmhdjKv6U"
      },
      "execution_count": null,
      "outputs": []
    },
    {
      "cell_type": "markdown",
      "source": [
        "Find best bin threshold up to which to sum bins and best positivity percentage threshold that classify correctly most slides"
      ],
      "metadata": {
        "id": "AOWSEeO6PfLI"
      }
    },
    {
      "cell_type": "code",
      "source": [
        "def find_bin_threshold(histograms, targets):\n",
        "  best_bin_thresh = []\n",
        "  best_perc_thresh = []\n",
        "  best_preds = []\n",
        "  min_errors = len(tr_set) + 1\n",
        "\n",
        "  # Try different bin thresholds up to which bins value are summed\n",
        "  for bin_thresh in range(5, 30):\n",
        "      slides_pos_perc = np.zeros(np.shape(targets))\n",
        "\n",
        "      # Sum all bins up to bin_thresh\n",
        "      for i, target in enumerate(targets):\n",
        "          hist = histograms[i]\n",
        "          pdl1_pixels = np.sum(hist[:bin_thresh])\n",
        "          tot_pixels = np.sum(hist)\n",
        "          # Calculate slide positivity percentage over tot pixels\n",
        "          slides_pos_perc[i] = pdl1_pixels/tot_pixels\n",
        "          \n",
        "      # Find best slide positivity percentage threshold to classify most slides\n",
        "      perc_threshold, num_errors = find_classification_threshold(slides_pos_perc, targets)\n",
        "\n",
        "      # Classify slides based on the pos. perc. threshold\n",
        "      slides_preds = slides_pos_perc > perc_threshold\n",
        "          \n",
        "      print('bin_thresh:', bin_thresh, 'perc_threshold:', perc_threshold, ', num_errors:', num_errors)\n",
        "      if num_errors == min_errors:\n",
        "          best_bin_thresh.append(bin_thresh)\n",
        "          best_preds.append(slides_preds)\n",
        "          best_perc_thresh.append(perc_threshold)\n",
        "      if num_errors < min_errors:\n",
        "          best_bin_thresh = [bin_thresh]\n",
        "          best_preds = [slides_preds]\n",
        "          best_perc_thresh = [perc_threshold]\n",
        "          min_errors = num_errors\n",
        "\n",
        "  best_preds = np.array(best_preds).astype(int)\n",
        "  return best_bin_thresh, best_perc_thresh, min_errors, best_preds"
      ],
      "metadata": {
        "id": "zm5JoNs1K3o5"
      },
      "execution_count": null,
      "outputs": []
    },
    {
      "cell_type": "markdown",
      "source": [
        "# Internal cross validation"
      ],
      "metadata": {
        "id": "EE-SzN9T6AnY"
      }
    },
    {
      "cell_type": "code",
      "source": [
        "total_internal_hist = np.concatenate((histograms_tr, histograms_ts), axis=0)\n",
        "total_internal_targets = np.concatenate((targets_tr, targets_ts), axis=0)"
      ],
      "metadata": {
        "id": "Dvn6EFn85-02"
      },
      "execution_count": null,
      "outputs": []
    },
    {
      "cell_type": "code",
      "source": [
        "n_folds = 6\n",
        "skf = StratifiedKFold(n_splits=n_folds, shuffle = True, random_state=1)\n",
        "\n",
        "acc_arr = np.zeros(n_folds)\n",
        "f1_arr = np.zeros(n_folds)\n",
        "f1_weight_arr = np.zeros(n_folds)\n",
        "bin_thresh_arr = []\n",
        "perc_thresh_arr = []\n",
        "\n",
        "\n",
        "for s, (train_index, test_index) in enumerate(skf.split(total_internal_hist, total_internal_targets)):\n",
        "  histograms_tr, histograms_ts = total_internal_hist[train_index], total_internal_hist[test_index]\n",
        "  targets_tr, targets_ts = total_internal_targets[train_index], total_internal_targets[test_index]\n",
        "  # Training\n",
        "  best_bin_thresh, best_perc_thresh, min_errors, best_preds = find_bin_threshold(histograms_tr, targets_tr)\n",
        "\n",
        "  # Test\n",
        "  test_bin_thresh = best_bin_thresh[0]\n",
        "  test_perc_thresh = best_perc_thresh[0] \n",
        "  \n",
        "  bin_thresh_arr.append(test_bin_thresh)\n",
        "  perc_thresh_arr.append(test_perc_thresh)\n",
        "\n",
        "  slides_pos_perc_ts = np.zeros(np.shape(targets_ts))\n",
        "\n",
        "  for i, target in enumerate(targets_ts):\n",
        "    slide_bins = histograms_ts[i]\n",
        "    pdl1_pixels = np.sum(slide_bins[:test_bin_thresh])\n",
        "    tot_pixels = np.sum(slide_bins)\n",
        "    # Calculate slide positivity percentage over tot pixels\n",
        "    slides_pos_perc_ts[i] = pdl1_pixels/tot_pixels\n",
        "\n",
        "  preds = (slides_pos_perc_ts > test_perc_thresh).astype('int')\n",
        "  \n",
        "  acc = accuracy_score(targets_ts, preds)\n",
        "  f1 = f1_score(targets_ts, preds)\n",
        "  weight_f1 = f1_score(targets_ts, preds, average='weighted')\n",
        "  acc_arr[s] = acc\n",
        "  f1_arr[s] = f1\n",
        "  f1_weight_arr[s] = weight_f1"
      ],
      "metadata": {
        "colab": {
          "base_uri": "https://localhost:8080/"
        },
        "id": "Yv2NxP697AOo",
        "outputId": "5ce5be81-3a7a-49ec-a80d-92c0e2a16c92"
      },
      "execution_count": null,
      "outputs": [
        {
          "output_type": "stream",
          "name": "stdout",
          "text": [
            "bin_thresh: 5 perc_threshold: 0.07189 , num_errors: 6\n",
            "bin_thresh: 6 perc_threshold: 0.08489 , num_errors: 6\n",
            "bin_thresh: 7 perc_threshold: 0.10246 , num_errors: 5\n",
            "bin_thresh: 8 perc_threshold: 0.11849 , num_errors: 5\n",
            "bin_thresh: 9 perc_threshold: 0.13455 , num_errors: 5\n",
            "bin_thresh: 10 perc_threshold: 0.1538 , num_errors: 6\n",
            "bin_thresh: 11 perc_threshold: 0.17118 , num_errors: 6\n",
            "bin_thresh: 12 perc_threshold: 0.188 , num_errors: 6\n",
            "bin_thresh: 13 perc_threshold: 0.20368 , num_errors: 5\n",
            "bin_thresh: 14 perc_threshold: 0.22221 , num_errors: 6\n",
            "bin_thresh: 15 perc_threshold: 0.2393 , num_errors: 5\n",
            "bin_thresh: 16 perc_threshold: 0.25501 , num_errors: 6\n",
            "bin_thresh: 17 perc_threshold: 0.27346 , num_errors: 5\n",
            "bin_thresh: 18 perc_threshold: 0.28872 , num_errors: 5\n",
            "bin_thresh: 19 perc_threshold: 0.30496 , num_errors: 6\n",
            "bin_thresh: 20 perc_threshold: 0.32522 , num_errors: 5\n",
            "bin_thresh: 21 perc_threshold: 0.34269 , num_errors: 5\n",
            "bin_thresh: 22 perc_threshold: 0.36033 , num_errors: 6\n",
            "bin_thresh: 23 perc_threshold: 0.38931 , num_errors: 7\n",
            "bin_thresh: 24 perc_threshold: 0.40138 , num_errors: 7\n",
            "bin_thresh: 25 perc_threshold: 0.42189 , num_errors: 7\n",
            "bin_thresh: 26 perc_threshold: 0.44394 , num_errors: 6\n",
            "bin_thresh: 27 perc_threshold: 0.46426 , num_errors: 6\n",
            "bin_thresh: 28 perc_threshold: 0.48512 , num_errors: 7\n",
            "bin_thresh: 29 perc_threshold: 0.50689 , num_errors: 7\n",
            "bin_thresh: 5 perc_threshold: 0.06959 , num_errors: 5\n",
            "bin_thresh: 6 perc_threshold: 0.08489 , num_errors: 5\n",
            "bin_thresh: 7 perc_threshold: 0.10246 , num_errors: 5\n",
            "bin_thresh: 8 perc_threshold: 0.11849 , num_errors: 5\n",
            "bin_thresh: 9 perc_threshold: 0.13455 , num_errors: 5\n",
            "bin_thresh: 10 perc_threshold: 0.15139 , num_errors: 5\n",
            "bin_thresh: 11 perc_threshold: 0.16846 , num_errors: 5\n",
            "bin_thresh: 12 perc_threshold: 0.18478 , num_errors: 5\n",
            "bin_thresh: 13 perc_threshold: 0.20015 , num_errors: 5\n",
            "bin_thresh: 14 perc_threshold: 0.21648 , num_errors: 5\n",
            "bin_thresh: 15 perc_threshold: 0.23374 , num_errors: 5\n",
            "bin_thresh: 16 perc_threshold: 0.25288 , num_errors: 5\n",
            "bin_thresh: 17 perc_threshold: 0.27058 , num_errors: 4\n",
            "bin_thresh: 18 perc_threshold: 0.28786 , num_errors: 4\n",
            "bin_thresh: 19 perc_threshold: 0.30496 , num_errors: 5\n",
            "bin_thresh: 20 perc_threshold: 0.32522 , num_errors: 5\n",
            "bin_thresh: 21 perc_threshold: 0.34269 , num_errors: 5\n",
            "bin_thresh: 22 perc_threshold: 0.36173 , num_errors: 7\n",
            "bin_thresh: 23 perc_threshold: 0.38135 , num_errors: 7\n",
            "bin_thresh: 24 perc_threshold: 0.40138 , num_errors: 6\n",
            "bin_thresh: 25 perc_threshold: 0.42189 , num_errors: 6\n",
            "bin_thresh: 26 perc_threshold: 0.44275 , num_errors: 6\n",
            "bin_thresh: 27 perc_threshold: 0.46426 , num_errors: 6\n",
            "bin_thresh: 28 perc_threshold: 0.48512 , num_errors: 7\n",
            "bin_thresh: 29 perc_threshold: 0.50212 , num_errors: 7\n",
            "bin_thresh: 5 perc_threshold: 0.07113 , num_errors: 4\n",
            "bin_thresh: 6 perc_threshold: 0.0873 , num_errors: 4\n",
            "bin_thresh: 7 perc_threshold: 0.10246 , num_errors: 4\n",
            "bin_thresh: 8 perc_threshold: 0.11849 , num_errors: 4\n",
            "bin_thresh: 9 perc_threshold: 0.13455 , num_errors: 4\n",
            "bin_thresh: 10 perc_threshold: 0.15139 , num_errors: 4\n",
            "bin_thresh: 11 perc_threshold: 0.16846 , num_errors: 4\n",
            "bin_thresh: 12 perc_threshold: 0.18478 , num_errors: 4\n",
            "bin_thresh: 13 perc_threshold: 0.20188 , num_errors: 5\n",
            "bin_thresh: 14 perc_threshold: 0.21648 , num_errors: 5\n",
            "bin_thresh: 15 perc_threshold: 0.2393 , num_errors: 5\n",
            "bin_thresh: 16 perc_threshold: 0.25117 , num_errors: 6\n",
            "bin_thresh: 17 perc_threshold: 0.27346 , num_errors: 5\n",
            "bin_thresh: 18 perc_threshold: 0.28786 , num_errors: 5\n",
            "bin_thresh: 19 perc_threshold: 0.30496 , num_errors: 6\n",
            "bin_thresh: 20 perc_threshold: 0.32522 , num_errors: 6\n",
            "bin_thresh: 21 perc_threshold: 0.34269 , num_errors: 6\n",
            "bin_thresh: 22 perc_threshold: 0.37086 , num_errors: 7\n",
            "bin_thresh: 23 perc_threshold: 0.39393 , num_errors: 8\n",
            "bin_thresh: 24 perc_threshold: 0.40952 , num_errors: 7\n",
            "bin_thresh: 25 perc_threshold: 0.42991 , num_errors: 7\n",
            "bin_thresh: 26 perc_threshold: 0.44394 , num_errors: 7\n",
            "bin_thresh: 27 perc_threshold: 0.46426 , num_errors: 7\n",
            "bin_thresh: 28 perc_threshold: 0.48934 , num_errors: 8\n",
            "bin_thresh: 29 perc_threshold: 0.50934 , num_errors: 8\n",
            "bin_thresh: 5 perc_threshold: 0.07113 , num_errors: 4\n",
            "bin_thresh: 6 perc_threshold: 0.0873 , num_errors: 4\n",
            "bin_thresh: 7 perc_threshold: 0.10494 , num_errors: 5\n",
            "bin_thresh: 8 perc_threshold: 0.11894 , num_errors: 4\n",
            "bin_thresh: 9 perc_threshold: 0.13455 , num_errors: 5\n",
            "bin_thresh: 10 perc_threshold: 0.15139 , num_errors: 4\n",
            "bin_thresh: 11 perc_threshold: 0.16846 , num_errors: 4\n",
            "bin_thresh: 12 perc_threshold: 0.188 , num_errors: 5\n",
            "bin_thresh: 13 perc_threshold: 0.20368 , num_errors: 4\n",
            "bin_thresh: 14 perc_threshold: 0.22221 , num_errors: 5\n",
            "bin_thresh: 15 perc_threshold: 0.2393 , num_errors: 4\n",
            "bin_thresh: 16 perc_threshold: 0.25062 , num_errors: 5\n",
            "bin_thresh: 17 perc_threshold: 0.27058 , num_errors: 4\n",
            "bin_thresh: 18 perc_threshold: 0.28786 , num_errors: 4\n",
            "bin_thresh: 19 perc_threshold: 0.30438 , num_errors: 5\n",
            "bin_thresh: 20 perc_threshold: 0.32522 , num_errors: 5\n",
            "bin_thresh: 21 perc_threshold: 0.34269 , num_errors: 5\n",
            "bin_thresh: 22 perc_threshold: 0.36033 , num_errors: 6\n",
            "bin_thresh: 23 perc_threshold: 0.37778 , num_errors: 6\n",
            "bin_thresh: 24 perc_threshold: 0.39613 , num_errors: 7\n",
            "bin_thresh: 25 perc_threshold: 0.41423 , num_errors: 7\n",
            "bin_thresh: 26 perc_threshold: 0.44394 , num_errors: 6\n",
            "bin_thresh: 27 perc_threshold: 0.46533 , num_errors: 6\n",
            "bin_thresh: 28 perc_threshold: 0.48599 , num_errors: 6\n",
            "bin_thresh: 29 perc_threshold: 0.50212 , num_errors: 6\n",
            "bin_thresh: 5 perc_threshold: 0.06959 , num_errors: 6\n",
            "bin_thresh: 6 perc_threshold: 0.08489 , num_errors: 6\n",
            "bin_thresh: 7 perc_threshold: 0.10172 , num_errors: 6\n",
            "bin_thresh: 8 perc_threshold: 0.11894 , num_errors: 6\n",
            "bin_thresh: 9 perc_threshold: 0.13455 , num_errors: 6\n",
            "bin_thresh: 10 perc_threshold: 0.15139 , num_errors: 6\n",
            "bin_thresh: 11 perc_threshold: 0.16669 , num_errors: 6\n",
            "bin_thresh: 12 perc_threshold: 0.18478 , num_errors: 6\n",
            "bin_thresh: 13 perc_threshold: 0.20015 , num_errors: 6\n",
            "bin_thresh: 14 perc_threshold: 0.21648 , num_errors: 6\n",
            "bin_thresh: 15 perc_threshold: 0.2393 , num_errors: 6\n",
            "bin_thresh: 16 perc_threshold: 0.25288 , num_errors: 6\n",
            "bin_thresh: 17 perc_threshold: 0.27058 , num_errors: 5\n",
            "bin_thresh: 18 perc_threshold: 0.28786 , num_errors: 5\n",
            "bin_thresh: 19 perc_threshold: 0.30496 , num_errors: 6\n",
            "bin_thresh: 20 perc_threshold: 0.32522 , num_errors: 6\n",
            "bin_thresh: 21 perc_threshold: 0.34269 , num_errors: 6\n",
            "bin_thresh: 22 perc_threshold: 0.37086 , num_errors: 7\n",
            "bin_thresh: 23 perc_threshold: 0.39393 , num_errors: 8\n",
            "bin_thresh: 24 perc_threshold: 0.40138 , num_errors: 7\n",
            "bin_thresh: 25 perc_threshold: 0.42189 , num_errors: 7\n",
            "bin_thresh: 26 perc_threshold: 0.44394 , num_errors: 6\n",
            "bin_thresh: 27 perc_threshold: 0.46426 , num_errors: 6\n",
            "bin_thresh: 28 perc_threshold: 0.48512 , num_errors: 7\n",
            "bin_thresh: 29 perc_threshold: 0.50212 , num_errors: 7\n",
            "bin_thresh: 5 perc_threshold: 0.07189 , num_errors: 5\n",
            "bin_thresh: 6 perc_threshold: 0.0873 , num_errors: 5\n",
            "bin_thresh: 7 perc_threshold: 0.10494 , num_errors: 5\n",
            "bin_thresh: 8 perc_threshold: 0.11849 , num_errors: 5\n",
            "bin_thresh: 9 perc_threshold: 0.13453 , num_errors: 5\n",
            "bin_thresh: 10 perc_threshold: 0.15139 , num_errors: 5\n",
            "bin_thresh: 11 perc_threshold: 0.16782 , num_errors: 4\n",
            "bin_thresh: 12 perc_threshold: 0.18308 , num_errors: 4\n",
            "bin_thresh: 13 perc_threshold: 0.20015 , num_errors: 3\n",
            "bin_thresh: 14 perc_threshold: 0.21648 , num_errors: 3\n",
            "bin_thresh: 15 perc_threshold: 0.23374 , num_errors: 3\n",
            "bin_thresh: 16 perc_threshold: 0.25288 , num_errors: 3\n",
            "bin_thresh: 17 perc_threshold: 0.27058 , num_errors: 2\n",
            "bin_thresh: 18 perc_threshold: 0.28786 , num_errors: 2\n",
            "bin_thresh: 19 perc_threshold: 0.30496 , num_errors: 3\n",
            "bin_thresh: 20 perc_threshold: 0.32522 , num_errors: 3\n",
            "bin_thresh: 21 perc_threshold: 0.34269 , num_errors: 3\n",
            "bin_thresh: 22 perc_threshold: 0.36033 , num_errors: 5\n",
            "bin_thresh: 23 perc_threshold: 0.38135 , num_errors: 6\n",
            "bin_thresh: 24 perc_threshold: 0.40138 , num_errors: 5\n",
            "bin_thresh: 25 perc_threshold: 0.42189 , num_errors: 5\n",
            "bin_thresh: 26 perc_threshold: 0.44394 , num_errors: 4\n",
            "bin_thresh: 27 perc_threshold: 0.46426 , num_errors: 4\n",
            "bin_thresh: 28 perc_threshold: 0.48512 , num_errors: 5\n",
            "bin_thresh: 29 perc_threshold: 0.5068 , num_errors: 5\n"
          ]
        }
      ]
    },
    {
      "cell_type": "code",
      "source": [
        "print('acc_arr:', acc_arr)\n",
        "print('f1_arr:', f1_arr)\n",
        "print('f1_weight_arr:', f1_weight_arr)\n",
        "\n",
        "\n",
        "avg_acc = np.average(acc_arr)\n",
        "print('avg_acc:', avg_acc)\n",
        "\n",
        "avg_f1 = np.average(f1_arr)\n",
        "print('avg_f1:', avg_f1)\n",
        "\n",
        "avg_f1_weight = np.average(f1_weight_arr)\n",
        "print('avg_f1_weight:', avg_f1_weight)"
      ],
      "metadata": {
        "colab": {
          "base_uri": "https://localhost:8080/"
        },
        "id": "qFvIXhcZHq2i",
        "outputId": "1d0e985c-7d95-4965-f35d-08d97c168405"
      },
      "execution_count": null,
      "outputs": [
        {
          "output_type": "stream",
          "name": "stdout",
          "text": [
            "acc_arr: [0.85714286 0.85714286 0.71428571 0.66666667 1.         0.5       ]\n",
            "f1_arr: [0.88888889 0.88888889 0.66666667 0.66666667 1.         0.66666667]\n",
            "f1_weight_arr: [0.85079365 0.85079365 0.71428571 0.66666667 1.         0.33333333]\n",
            "avg_acc: 0.7658730158730158\n",
            "avg_f1: 0.7962962962962963\n",
            "avg_f1_weight: 0.7359788359788358\n"
          ]
        }
      ]
    },
    {
      "cell_type": "markdown",
      "source": [
        "# External test set"
      ],
      "metadata": {
        "id": "p41ao4UZ8C9r"
      }
    },
    {
      "cell_type": "code",
      "source": [
        "#hist_dir_ext = '/content/drive/MyDrive/data/hist/denormalized_ext'\n",
        "hist_dir_ext = '/content/drive/MyDrive/data/hist/denormalized_manual_ext'"
      ],
      "metadata": {
        "id": "ZxKKOuOj8CNC"
      },
      "execution_count": null,
      "outputs": []
    },
    {
      "cell_type": "code",
      "source": [
        "results_dict_ext = {'M-180-20-A1 SP142': 0, 'M-3784-20-A1 SP142': 1, 'M-3905-20 SP142 (1)': 1, 'M-534-20-1 SP142': 1, 'M-834-21 SP142': 1,\n",
        " 'M-1163-20 SP142': 0, 'M-1242-20 SP142': 0, 'M-180-20 (3) B1': 0, 'M-182-20-A1 SP142': 0, 'M-313-20 SP142': 0, 'M-3454-20-A1 SP142': 0,\n",
        " 'M-3587-20 SP142': 0, 'M-360-20 SP142': 0, 'M-3760-20-A1 SP142': 0, 'M-3914-20 SP142 (2)': 0, 'M-4075-20 SP142 (2)': 0,\n",
        " 'M-4092-20 SP142 (2)': 0, 'M-5248-20 SP142 (1)': 0, 'M-527-20 MA1-SP142': 0, 'M-527-20 MA2-SP142': 0, 'M-5428-20 SP142': 0,\n",
        " 'M-5696-20 (3)': 0, 'M-5697-20 SP142': 0, 'M-6014-20 A1-SP142': 0, 'M-6052-20 A1-SP142': 0, 'M-67-21-1-SP142 (4)': 0}"
      ],
      "metadata": {
        "id": "2Trfoo6b8IlJ"
      },
      "execution_count": null,
      "outputs": []
    },
    {
      "cell_type": "code",
      "source": [
        "ext_set = ['M-180-20-A1 SP142', 'M-3784-20-A1 SP142', 'M-3905-20 SP142 (1)', 'M-534-20-1 SP142', 'M-834-21 SP142',\n",
        "              'M-1163-20 SP142', 'M-1242-20 SP142', 'M-180-20 (3) B1', 'M-182-20-A1 SP142', 'M-313-20 SP142', 'M-3454-20-A1 SP142',\n",
        "              'M-3587-20 SP142', 'M-360-20 SP142', 'M-3760-20-A1 SP142', 'M-3914-20 SP142 (2)', 'M-4075-20 SP142 (2)',\n",
        "              'M-4092-20 SP142 (2)', 'M-5248-20 SP142 (1)', 'M-527-20 MA1-SP142', 'M-527-20 MA2-SP142', 'M-5428-20 SP142',\n",
        "              'M-5696-20 (3)', 'M-5697-20 SP142', 'M-6052-20 A1-SP142', 'M-67-21-1-SP142 (4)']"
      ],
      "metadata": {
        "id": "3_-3edSl8Ki_"
      },
      "execution_count": null,
      "outputs": []
    },
    {
      "cell_type": "code",
      "source": [
        "num_bins = 100\n",
        "\n",
        "# External test set\n",
        "padded_log_histograms_ext = []\n",
        "log_histograms_ext = []\n",
        "histograms_ext = []\n",
        "\n",
        "for i, slide_name in enumerate(ext_set):\n",
        "  histograms_ext.append((np.load(hist_dir_ext+'/'+slide_name+'_bins_denorm_100r0.95.npy')))\n",
        "  padded_log_histograms_ext.append(add_padding(get_log_hist(np.load(hist_dir_ext+'/'+slide_name+'_bins_denorm_100r0.95.npy'))))\n",
        "  print(slide_name)\n",
        "\n",
        "targets_ext = np.zeros(np.shape(ext_set), dtype='int')\n",
        "for i, slide_name in enumerate(ext_set):\n",
        "  targets_ext[i] = results_dict_ext[slide_name]"
      ],
      "metadata": {
        "colab": {
          "base_uri": "https://localhost:8080/"
        },
        "id": "_2z7DG1b8NJa",
        "outputId": "9e0ece94-5b0d-49f9-8ddb-f3f77089aace"
      },
      "execution_count": null,
      "outputs": [
        {
          "output_type": "stream",
          "name": "stdout",
          "text": [
            "M-180-20-A1 SP142\n",
            "M-3784-20-A1 SP142\n",
            "M-3905-20 SP142 (1)\n",
            "M-534-20-1 SP142\n",
            "M-834-21 SP142\n",
            "M-1163-20 SP142\n",
            "M-1242-20 SP142\n",
            "M-180-20 (3) B1\n",
            "M-182-20-A1 SP142\n",
            "M-313-20 SP142\n",
            "M-3454-20-A1 SP142\n",
            "M-3587-20 SP142\n",
            "M-360-20 SP142\n",
            "M-3760-20-A1 SP142\n",
            "M-3914-20 SP142 (2)\n",
            "M-4075-20 SP142 (2)\n",
            "M-4092-20 SP142 (2)\n",
            "M-5248-20 SP142 (1)\n",
            "M-527-20 MA1-SP142\n",
            "M-527-20 MA2-SP142\n",
            "M-5428-20 SP142\n",
            "M-5696-20 (3)\n",
            "M-5697-20 SP142\n",
            "M-6052-20 A1-SP142\n",
            "M-67-21-1-SP142 (4)\n"
          ]
        }
      ]
    },
    {
      "cell_type": "code",
      "source": [
        "X = padded_log_histograms_ext\n",
        "y = targets_ext\n",
        "\n",
        "pred_table = np.zeros((n_folds, len(y)))\n",
        "\n",
        "# Iterate over all models (couples <bin_thresh,perc_thresh>)\n",
        "for j, b_thresh in enumerate(bin_thresh_arr):\n",
        "  p_thresh = perc_thresh_arr[j]\n",
        "\n",
        "  slides_pos_perc = np.zeros(len(y))\n",
        "  for i, x in enumerate(X):\n",
        "    pdl1_pixels = np.sum(x[:b_thresh])\n",
        "    tot_pixels = np.sum(x)\n",
        "    # Calculate slide positivity percentage over tot pixels\n",
        "    slides_pos_perc[i] = pdl1_pixels/tot_pixels\n",
        "\n",
        "  y_pred = (slides_pos_perc > p_thresh).astype('int')\n",
        "  pred_table[j, :] = y_pred\n",
        "\n",
        "final_preds = np.zeros(len(y))\n",
        "\n",
        "for j in range(len(y)):\n",
        "  avg = (np.average(pred_table[:, j]))\n",
        "  if avg == 0.5:\n",
        "    avg = np.average(pred_table[:, j], weights=acc_arr)\n",
        "  final_preds[j] = (avg > 0.5).astype('int')\n",
        "\n",
        "acc = accuracy_score(y, final_preds)\n",
        "f1 = f1_score(y, final_preds)\n",
        "weight_f1 = f1_score(y, final_preds, average='weighted')\n",
        "tn, fp, fn, tp = confusion_matrix(y, final_preds).ravel()"
      ],
      "metadata": {
        "id": "dW9S-_Fb_JYT"
      },
      "execution_count": null,
      "outputs": []
    },
    {
      "cell_type": "code",
      "source": [
        "print('acc ext:', acc)\n",
        "print('f1 ext:', f1)\n",
        "print('weight_f1 ext:', weight_f1)\n",
        "\n",
        "print('tn:', tn, 'fp:', fp, 'fn:', fn, 'tp:', tp)"
      ],
      "metadata": {
        "colab": {
          "base_uri": "https://localhost:8080/"
        },
        "id": "eUo6AI3ZDwFw",
        "outputId": "01c08bb1-6cd6-4143-9c5c-21bf1e58ce10"
      },
      "execution_count": null,
      "outputs": [
        {
          "output_type": "stream",
          "name": "stdout",
          "text": [
            "acc ext: 0.76\n",
            "f1 ext: 0.5\n",
            "weight_f1 ext: 0.7873684210526315\n",
            "tn: 16 fp: 5 fn: 1 tp: 3\n"
          ]
        }
      ]
    },
    {
      "cell_type": "markdown",
      "source": [
        "# Combined internal + ext dataset"
      ],
      "metadata": {
        "id": "PSpjTF5Y3aHy"
      }
    },
    {
      "cell_type": "code",
      "source": [
        "histograms_tr, histograms_ts, targets_tr, targets_ts = import_histograms(tr_set, ts_set)\n"
      ],
      "metadata": {
        "colab": {
          "base_uri": "https://localhost:8080/"
        },
        "id": "Nhyk-peW8rUJ",
        "outputId": "0c9278b5-5da8-46cc-941c-ff4d97ccff7f"
      },
      "execution_count": null,
      "outputs": [
        {
          "output_type": "stream",
          "name": "stdout",
          "text": [
            "19-COMP-004\n",
            "19-COMP-011\n",
            "19-COMP-012\n",
            "19-COMP-014\n",
            "19-COMP-016\n",
            "19-COMP-019\n",
            "19-COMP-029\n",
            "19-COMP-030\n",
            "19-COMP-032\n",
            "19-COMP-034\n",
            "20-COMP-050\n",
            "20-COMP-052\n",
            "20-COMP-054\n",
            "20-COMP-071\n",
            "20-COMP-088\n",
            "20-COMP-103\n",
            "20-COMP-113\n",
            "19-COMP-017\n",
            "19-COMP-020\n",
            "19-COMP-021\n",
            "19-COMP-044\n",
            "19-COMP-047\n",
            "20-COMP-055\n",
            "20-COMP-056\n",
            "20-COMP-059\n",
            "20-COMP-063\n",
            "20-COMP-066\n",
            "20-COMP-068\n",
            "20-COMP-070\n",
            "20-COMP-073\n",
            "20-COMP-075\n",
            "20-COMP-076\n",
            "20-COMP-078\n",
            "20-COMP-077\n",
            "20-COMP-065\n",
            "19-COMP-039\n",
            "20-COMP-102\n",
            "19-COMP-037\n",
            "19-COMP-026\n"
          ]
        }
      ]
    },
    {
      "cell_type": "code",
      "source": [
        "total_ext_norm_hist = np.concatenate((histograms_tr, histograms_ts, padded_log_histograms_ext), axis=0)\n",
        "total_ext_norm_targets = np.concatenate((targets_tr, targets_ts, targets_ext), axis=0)"
      ],
      "metadata": {
        "id": "nz1FP5pf3eoA"
      },
      "execution_count": null,
      "outputs": []
    },
    {
      "cell_type": "code",
      "source": [
        "n_folds = 6\n",
        "skf = StratifiedKFold(n_splits=n_folds, shuffle = True, random_state=1)\n",
        "\n",
        "acc_arr = np.zeros(n_folds)\n",
        "f1_arr = np.zeros(n_folds)\n",
        "weight_f1_arr = np.zeros(n_folds)\n",
        "\n",
        "bin_thresh_arr = []\n",
        "perc_thresh_arr = []\n",
        "\n",
        "\n",
        "for s, (train_index, test_index) in enumerate(skf.split(total_ext_norm_hist, total_ext_norm_targets)):\n",
        "  histograms_tr, histograms_ts = total_ext_norm_hist[train_index], total_ext_norm_hist[test_index]\n",
        "  targets_tr, targets_ts = total_ext_norm_targets[train_index], total_ext_norm_targets[test_index]\n",
        "\n",
        "  # Training\n",
        "  best_bin_thresh, best_perc_thresh, min_errors, best_preds = find_bin_threshold(histograms_tr, targets_tr)\n",
        "\n",
        "  # Test\n",
        "  test_bin_thresh = best_bin_thresh[0]\n",
        "  test_perc_thresh = best_perc_thresh[0] \n",
        "  \n",
        "  bin_thresh_arr.append(test_bin_thresh)\n",
        "  perc_thresh_arr.append(test_perc_thresh)\n",
        "\n",
        "  slides_pos_perc_ts = np.zeros(np.shape(targets_ts))\n",
        "\n",
        "  for i, target in enumerate(targets_ts):\n",
        "    slide_bins = histograms_ts[i]\n",
        "    pdl1_pixels = np.sum(slide_bins[:test_bin_thresh])\n",
        "    tot_pixels = np.sum(slide_bins)\n",
        "    # Calculate slide positivity percentage over tot pixels\n",
        "    slides_pos_perc_ts[i] = pdl1_pixels/tot_pixels\n",
        "\n",
        "  preds = (slides_pos_perc_ts > test_perc_thresh).astype('int')\n",
        "  acc = accuracy_score(targets_ts, preds)\n",
        "  f1 = f1_score(targets_ts, preds)\n",
        "  weight_f1 = f1_score(targets_ts, preds, average='weighted')\n",
        "  acc_arr[s] = acc\n",
        "  f1_arr[s] = f1\n",
        "  weight_f1_arr[s] = weight_f1\n"
      ],
      "metadata": {
        "colab": {
          "base_uri": "https://localhost:8080/"
        },
        "id": "PkbaoK4o3imG",
        "outputId": "831bb967-8077-4fd0-f964-6a1884708648"
      },
      "execution_count": null,
      "outputs": [
        {
          "output_type": "stream",
          "name": "stdout",
          "text": [
            "bin_thresh: 5 perc_threshold: 0.0694 , num_errors: 13\n",
            "bin_thresh: 6 perc_threshold: 0.08489 , num_errors: 13\n",
            "bin_thresh: 7 perc_threshold: 0.10351 , num_errors: 12\n",
            "bin_thresh: 8 perc_threshold: 0.11849 , num_errors: 12\n",
            "bin_thresh: 9 perc_threshold: 0.13573 , num_errors: 12\n",
            "bin_thresh: 10 perc_threshold: 0.15224 , num_errors: 11\n",
            "bin_thresh: 11 perc_threshold: 0.16825 , num_errors: 11\n",
            "bin_thresh: 12 perc_threshold: 0.18478 , num_errors: 11\n",
            "bin_thresh: 13 perc_threshold: 0.20368 , num_errors: 11\n",
            "bin_thresh: 14 perc_threshold: 0.21762 , num_errors: 11\n",
            "bin_thresh: 15 perc_threshold: 0.2393 , num_errors: 11\n",
            "bin_thresh: 16 perc_threshold: 0.25288 , num_errors: 11\n",
            "bin_thresh: 17 perc_threshold: 0.27058 , num_errors: 10\n",
            "bin_thresh: 18 perc_threshold: 0.28786 , num_errors: 10\n",
            "bin_thresh: 19 perc_threshold: 0.30496 , num_errors: 11\n",
            "bin_thresh: 20 perc_threshold: 0.32522 , num_errors: 11\n",
            "bin_thresh: 21 perc_threshold: 0.34269 , num_errors: 11\n",
            "bin_thresh: 22 perc_threshold: 0.36411 , num_errors: 13\n",
            "bin_thresh: 23 perc_threshold: 0.38287 , num_errors: 13\n",
            "bin_thresh: 24 perc_threshold: 0.40211 , num_errors: 13\n",
            "bin_thresh: 25 perc_threshold: 0.43034 , num_errors: 14\n",
            "bin_thresh: 26 perc_threshold: 0.44394 , num_errors: 14\n",
            "bin_thresh: 27 perc_threshold: 0.46304 , num_errors: 14\n",
            "bin_thresh: 28 perc_threshold: 0.48224 , num_errors: 14\n",
            "bin_thresh: 29 perc_threshold: 0.50503 , num_errors: 15\n",
            "bin_thresh: 5 perc_threshold: 0.07189 , num_errors: 9\n",
            "bin_thresh: 6 perc_threshold: 0.0882 , num_errors: 10\n",
            "bin_thresh: 7 perc_threshold: 0.10494 , num_errors: 9\n",
            "bin_thresh: 8 perc_threshold: 0.11894 , num_errors: 10\n",
            "bin_thresh: 9 perc_threshold: 0.13678 , num_errors: 9\n",
            "bin_thresh: 10 perc_threshold: 0.1538 , num_errors: 8\n",
            "bin_thresh: 11 perc_threshold: 0.17111 , num_errors: 8\n",
            "bin_thresh: 12 perc_threshold: 0.188 , num_errors: 8\n",
            "bin_thresh: 13 perc_threshold: 0.20317 , num_errors: 9\n",
            "bin_thresh: 14 perc_threshold: 0.22221 , num_errors: 8\n",
            "bin_thresh: 15 perc_threshold: 0.2393 , num_errors: 8\n",
            "bin_thresh: 16 perc_threshold: 0.2681 , num_errors: 10\n",
            "bin_thresh: 17 perc_threshold: 0.27346 , num_errors: 9\n",
            "bin_thresh: 18 perc_threshold: 0.28872 , num_errors: 9\n",
            "bin_thresh: 19 perc_threshold: 0.31729 , num_errors: 10\n",
            "bin_thresh: 20 perc_threshold: 0.3355 , num_errors: 9\n",
            "bin_thresh: 21 perc_threshold: 0.35391 , num_errors: 9\n",
            "bin_thresh: 22 perc_threshold: 0.37272 , num_errors: 9\n",
            "bin_thresh: 23 perc_threshold: 0.39154 , num_errors: 10\n",
            "bin_thresh: 24 perc_threshold: 0.41127 , num_errors: 10\n",
            "bin_thresh: 25 perc_threshold: 0.43034 , num_errors: 11\n",
            "bin_thresh: 26 perc_threshold: 0.44225 , num_errors: 11\n",
            "bin_thresh: 27 perc_threshold: 0.46304 , num_errors: 10\n",
            "bin_thresh: 28 perc_threshold: 0.48224 , num_errors: 10\n",
            "bin_thresh: 29 perc_threshold: 0.50503 , num_errors: 11\n",
            "bin_thresh: 5 perc_threshold: 0.07113 , num_errors: 9\n",
            "bin_thresh: 6 perc_threshold: 0.0873 , num_errors: 9\n",
            "bin_thresh: 7 perc_threshold: 0.10246 , num_errors: 9\n",
            "bin_thresh: 8 perc_threshold: 0.11849 , num_errors: 9\n",
            "bin_thresh: 9 perc_threshold: 0.13455 , num_errors: 9\n",
            "bin_thresh: 10 perc_threshold: 0.15139 , num_errors: 9\n",
            "bin_thresh: 11 perc_threshold: 0.16846 , num_errors: 9\n",
            "bin_thresh: 12 perc_threshold: 0.18478 , num_errors: 9\n",
            "bin_thresh: 13 perc_threshold: 0.20015 , num_errors: 9\n",
            "bin_thresh: 14 perc_threshold: 0.21648 , num_errors: 9\n",
            "bin_thresh: 15 perc_threshold: 0.23374 , num_errors: 9\n",
            "bin_thresh: 16 perc_threshold: 0.25274 , num_errors: 9\n",
            "bin_thresh: 17 perc_threshold: 0.26886 , num_errors: 9\n",
            "bin_thresh: 18 perc_threshold: 0.28786 , num_errors: 9\n",
            "bin_thresh: 19 perc_threshold: 0.30496 , num_errors: 10\n",
            "bin_thresh: 20 perc_threshold: 0.32522 , num_errors: 10\n",
            "bin_thresh: 21 perc_threshold: 0.34269 , num_errors: 10\n",
            "bin_thresh: 22 perc_threshold: 0.37272 , num_errors: 11\n",
            "bin_thresh: 23 perc_threshold: 0.39154 , num_errors: 12\n",
            "bin_thresh: 24 perc_threshold: 0.40138 , num_errors: 11\n",
            "bin_thresh: 25 perc_threshold: 0.42399 , num_errors: 11\n",
            "bin_thresh: 26 perc_threshold: 0.44275 , num_errors: 12\n",
            "bin_thresh: 27 perc_threshold: 0.46426 , num_errors: 12\n",
            "bin_thresh: 28 perc_threshold: 0.48224 , num_errors: 13\n",
            "bin_thresh: 29 perc_threshold: 0.50503 , num_errors: 14\n",
            "bin_thresh: 5 perc_threshold: 0.0694 , num_errors: 11\n",
            "bin_thresh: 6 perc_threshold: 0.08556 , num_errors: 11\n",
            "bin_thresh: 7 perc_threshold: 0.10178 , num_errors: 10\n",
            "bin_thresh: 8 perc_threshold: 0.11875 , num_errors: 10\n",
            "bin_thresh: 9 perc_threshold: 0.13493 , num_errors: 10\n",
            "bin_thresh: 10 perc_threshold: 0.15224 , num_errors: 10\n",
            "bin_thresh: 11 perc_threshold: 0.16825 , num_errors: 10\n",
            "bin_thresh: 12 perc_threshold: 0.18478 , num_errors: 9\n",
            "bin_thresh: 13 perc_threshold: 0.20076 , num_errors: 10\n",
            "bin_thresh: 14 perc_threshold: 0.21762 , num_errors: 9\n",
            "bin_thresh: 15 perc_threshold: 0.23374 , num_errors: 9\n",
            "bin_thresh: 16 perc_threshold: 0.25288 , num_errors: 9\n",
            "bin_thresh: 17 perc_threshold: 0.27058 , num_errors: 8\n",
            "bin_thresh: 18 perc_threshold: 0.28786 , num_errors: 8\n",
            "bin_thresh: 19 perc_threshold: 0.30496 , num_errors: 9\n",
            "bin_thresh: 20 perc_threshold: 0.32522 , num_errors: 9\n",
            "bin_thresh: 21 perc_threshold: 0.34269 , num_errors: 9\n",
            "bin_thresh: 22 perc_threshold: 0.36411 , num_errors: 11\n",
            "bin_thresh: 23 perc_threshold: 0.38287 , num_errors: 11\n",
            "bin_thresh: 24 perc_threshold: 0.40211 , num_errors: 11\n",
            "bin_thresh: 25 perc_threshold: 0.4219 , num_errors: 12\n",
            "bin_thresh: 26 perc_threshold: 0.44394 , num_errors: 12\n",
            "bin_thresh: 27 perc_threshold: 0.46304 , num_errors: 12\n",
            "bin_thresh: 28 perc_threshold: 0.48224 , num_errors: 12\n",
            "bin_thresh: 29 perc_threshold: 0.50503 , num_errors: 13\n",
            "bin_thresh: 5 perc_threshold: 0.07189 , num_errors: 11\n",
            "bin_thresh: 6 perc_threshold: 0.08999 , num_errors: 11\n",
            "bin_thresh: 7 perc_threshold: 0.10351 , num_errors: 10\n",
            "bin_thresh: 8 perc_threshold: 0.11849 , num_errors: 10\n",
            "bin_thresh: 9 perc_threshold: 0.13573 , num_errors: 10\n",
            "bin_thresh: 10 perc_threshold: 0.15224 , num_errors: 9\n",
            "bin_thresh: 11 perc_threshold: 0.16825 , num_errors: 9\n",
            "bin_thresh: 12 perc_threshold: 0.18478 , num_errors: 9\n",
            "bin_thresh: 13 perc_threshold: 0.20368 , num_errors: 9\n",
            "bin_thresh: 14 perc_threshold: 0.22221 , num_errors: 10\n",
            "bin_thresh: 15 perc_threshold: 0.2393 , num_errors: 9\n",
            "bin_thresh: 16 perc_threshold: 0.25288 , num_errors: 9\n",
            "bin_thresh: 17 perc_threshold: 0.27346 , num_errors: 9\n",
            "bin_thresh: 18 perc_threshold: 0.28786 , num_errors: 9\n",
            "bin_thresh: 19 perc_threshold: 0.30496 , num_errors: 10\n",
            "bin_thresh: 20 perc_threshold: 0.32522 , num_errors: 10\n",
            "bin_thresh: 21 perc_threshold: 0.34269 , num_errors: 10\n",
            "bin_thresh: 22 perc_threshold: 0.37254 , num_errors: 11\n",
            "bin_thresh: 23 perc_threshold: 0.38287 , num_errors: 11\n",
            "bin_thresh: 24 perc_threshold: 0.40211 , num_errors: 11\n",
            "bin_thresh: 25 perc_threshold: 0.4219 , num_errors: 12\n",
            "bin_thresh: 26 perc_threshold: 0.44394 , num_errors: 12\n",
            "bin_thresh: 27 perc_threshold: 0.46304 , num_errors: 12\n",
            "bin_thresh: 28 perc_threshold: 0.48407 , num_errors: 12\n",
            "bin_thresh: 29 perc_threshold: 0.50249 , num_errors: 13\n",
            "bin_thresh: 5 perc_threshold: 0.07189 , num_errors: 14\n",
            "bin_thresh: 6 perc_threshold: 0.08489 , num_errors: 14\n",
            "bin_thresh: 7 perc_threshold: 0.10351 , num_errors: 13\n",
            "bin_thresh: 8 perc_threshold: 0.11849 , num_errors: 13\n",
            "bin_thresh: 9 perc_threshold: 0.13573 , num_errors: 13\n",
            "bin_thresh: 10 perc_threshold: 0.15224 , num_errors: 12\n",
            "bin_thresh: 11 perc_threshold: 0.16825 , num_errors: 12\n",
            "bin_thresh: 12 perc_threshold: 0.18478 , num_errors: 12\n",
            "bin_thresh: 13 perc_threshold: 0.20076 , num_errors: 12\n",
            "bin_thresh: 14 perc_threshold: 0.21762 , num_errors: 11\n",
            "bin_thresh: 15 perc_threshold: 0.23374 , num_errors: 11\n",
            "bin_thresh: 16 perc_threshold: 0.25288 , num_errors: 11\n",
            "bin_thresh: 17 perc_threshold: 0.27058 , num_errors: 10\n",
            "bin_thresh: 18 perc_threshold: 0.28786 , num_errors: 10\n",
            "bin_thresh: 19 perc_threshold: 0.30496 , num_errors: 11\n",
            "bin_thresh: 20 perc_threshold: 0.32522 , num_errors: 11\n",
            "bin_thresh: 21 perc_threshold: 0.34269 , num_errors: 11\n",
            "bin_thresh: 22 perc_threshold: 0.36411 , num_errors: 13\n",
            "bin_thresh: 23 perc_threshold: 0.38287 , num_errors: 13\n",
            "bin_thresh: 24 perc_threshold: 0.40211 , num_errors: 13\n",
            "bin_thresh: 25 perc_threshold: 0.4219 , num_errors: 14\n",
            "bin_thresh: 26 perc_threshold: 0.44394 , num_errors: 14\n",
            "bin_thresh: 27 perc_threshold: 0.46304 , num_errors: 14\n",
            "bin_thresh: 28 perc_threshold: 0.48224 , num_errors: 14\n",
            "bin_thresh: 29 perc_threshold: 0.50503 , num_errors: 15\n"
          ]
        }
      ]
    },
    {
      "cell_type": "code",
      "source": [
        "print('acc_arr:', acc_arr)\n",
        "print('f1_arr:', f1_arr)\n",
        "print('weight_f1_arr:', weight_f1_arr)\n",
        "\n",
        "\n",
        "avg_acc = np.average(acc_arr)\n",
        "print('avg_acc:', avg_acc)\n",
        "\n",
        "avg_f1 = np.average(f1_arr)\n",
        "print('avg_f1:', avg_f1)\n",
        "\n",
        "avg_weight_f1 = np.average(weight_f1_arr)\n",
        "print('avg_weight_f1:', avg_weight_f1)"
      ],
      "metadata": {
        "colab": {
          "base_uri": "https://localhost:8080/"
        },
        "id": "bmSzr-HVNgX0",
        "outputId": "0e4eafbb-03a3-4c48-857e-69b4ce4df366"
      },
      "execution_count": null,
      "outputs": [
        {
          "output_type": "stream",
          "name": "stdout",
          "text": [
            "acc_arr: [0.90909091 0.54545455 0.54545455 0.72727273 0.7        0.9       ]\n",
            "f1_arr: [0.88888889 0.         0.54545455 0.72727273 0.66666667 0.88888889]\n",
            "weight_f1_arr: [0.91064491 0.44919786 0.54545455 0.72727273 0.7030303  0.9010101 ]\n",
            "avg_acc: 0.7212121212121213\n",
            "avg_f1: 0.6195286195286195\n",
            "avg_weight_f1: 0.7061017413958591\n"
          ]
        }
      ]
    }
  ]
}