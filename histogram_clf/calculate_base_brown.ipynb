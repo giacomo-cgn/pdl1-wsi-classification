{
 "cells": [
  {
   "cell_type": "code",
   "execution_count": 6,
   "id": "243305fd-36e7-4bf4-a738-0d37aafa49c0",
   "metadata": {},
   "outputs": [],
   "source": [
    "import matplotlib.pyplot as plt\n",
    "import numpy as np\n",
    "from skimage.color import rgb2lab, lab2rgb"
   ]
  },
  {
   "cell_type": "code",
   "execution_count": 26,
   "id": "bb2dc64f-3ee4-46f5-97b0-0bfaab8c9597",
   "metadata": {},
   "outputs": [
    {
     "name": "stdout",
     "output_type": "stream",
     "text": [
      "base_brown_rgb:  [120.0625  91.75    68.5625]\n",
      "base_brown_lab:  [40.01230676  8.52597691 16.95376532]\n",
      "base_brown_lab_converted: [117.33898756  88.94407255  67.34685372]\n"
     ]
    }
   ],
   "source": [
    "brown_arr_rgb = [\n",
    "    [27,12,9],\n",
    "    [95,75,74],\n",
    "    [228,195,141],\n",
    "    [156,88,43],\n",
    "    [33,19,6],\n",
    "    [140,94,42],\n",
    "    [211,188,138],\n",
    "    [128,86,74],\n",
    "    [30,16,16],\n",
    "    [79,55,43],\n",
    "    [198,172,147],\n",
    "    [105,76,58],\n",
    "    [24,10,9],\n",
    "    [127,85,45],\n",
    "    [142,116,101],\n",
    "    [198,181,151]\n",
    "]\n",
    "brown_arr_lab = []\n",
    "for elem in brown_arr_rgb:\n",
    "    brown_arr_lab.append(rgb2lab(np.uint8(np.asarray(elem))))\n",
    "#print(brown_arr_lab)\n",
    "\n",
    "sum_rgb = [0,0,0]\n",
    "for elem in brown_arr_rgb:\n",
    "    sum_rgb = np.add(sum_rgb, elem)\n",
    "#print('sum_rgb: ', sum_rgb)\n",
    "base_brown_rgb = np.divide(sum_rgb, len(brown_arr_rgb))\n",
    "print('base_brown_rgb: ',base_brown_rgb)\n",
    "\n",
    "sum_lab = [0,0,0]\n",
    "for elem in brown_arr_lab:\n",
    "    sum_lab = np.add(sum_lab, elem)\n",
    "#print('sum_lab: ', sum_lab)\n",
    "base_brown_lab = np.divide(sum_lab, len(brown_arr_lab))\n",
    "print('base_brown_lab: ',base_brown_lab)\n",
    "base_brown_lab_converted = lab2rgb(base_brown_lab)*256\n",
    "print('base_brown_lab_converted:',base_brown_lab_converted)"
   ]
  },
  {
   "cell_type": "code",
   "execution_count": null,
   "id": "fa03d020-9695-413c-98a3-4cc0cde1fa49",
   "metadata": {},
   "outputs": [],
   "source": []
  }
 ],
 "metadata": {
  "kernelspec": {
   "display_name": "Python 3",
   "language": "python",
   "name": "python3"
  },
  "language_info": {
   "codemirror_mode": {
    "name": "ipython",
    "version": 3
   },
   "file_extension": ".py",
   "mimetype": "text/x-python",
   "name": "python",
   "nbconvert_exporter": "python",
   "pygments_lexer": "ipython3",
   "version": "3.7.11"
  }
 },
 "nbformat": 4,
 "nbformat_minor": 5
}
