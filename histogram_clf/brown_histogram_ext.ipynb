{
 "cells": [
  {
   "cell_type": "code",
   "execution_count": 3,
   "id": "45d3721d-33b0-43eb-8095-21744b268cbe",
   "metadata": {},
   "outputs": [],
   "source": [
    "import numpy as np\n",
    "import matplotlib.pyplot as plt\n",
    "import openslide\n",
    "import cv2 as cv\n",
    "from define_dataset import define_dataset\n",
    "from color_distance_bins import color_distance_bins\n",
    "import time\n",
    "from define_ext_dataset import define_ext_dataset\n"
   ]
  },
  {
   "cell_type": "code",
   "execution_count": 4,
   "id": "96f18b93-40f1-4490-a9e1-c4b7e5143f8a",
   "metadata": {},
   "outputs": [],
   "source": [
    "ext_dataset = define_ext_dataset()\n",
    "ext_ts_set = ext_dataset.data\n",
    "\n",
    "num_positive_ext = ext_dataset.num_positives\n",
    "num_negatives_ext = ext_dataset.num_negatives"
   ]
  },
  {
   "cell_type": "code",
   "execution_count": 5,
   "id": "641bd19f-fea6-4898-a014-3badd5a54f10",
   "metadata": {},
   "outputs": [],
   "source": [
    "def calculate_pdl1_score_bins(slide_name, level, ROI_threshold, base_brown, num_bins, use_normalized=False,\n",
    "                              use_manual_art=False):\n",
    "    \n",
    "    wsi_path = '../WSI/ext_wsi/'+slide_name+'/'+slide_name+'.tiff'\n",
    "    if use_normalized:\n",
    "        ROI_map_path = '../WSI/ext_wsi/'+slide_name+'/roi_'+str(ROI_threshold)+'_enhanced.npy'\n",
    "    else:\n",
    "        #loads ROI saved array with indicated threshold applied\n",
    "        ROI_map_path = '../WSI/ext_wsi/'+slide_name+'/roi_'+str(ROI_threshold)+'.npy'\n",
    "        \n",
    "    if use_manual_art:\n",
    "        ROI_map_path = '../WSI/ext_wsi/'+slide_name+'/roi_'+str(ROI_threshold)+'_manual.npy'\n",
    "    \n",
    "    ROI_map_arr = np.load(ROI_map_path)\n",
    "    \n",
    "    wsi = openslide.OpenSlide(wsi_path)\n",
    "    width_in_tiles = ROI_map_arr.shape[1]\n",
    "    height_in_tiles = ROI_map_arr.shape[0]\n",
    "    num_ROI_tiles = np.sum(ROI_map_arr>0)\n",
    "\n",
    "    full_tile_size = int(wsi.dimensions[0]/width_in_tiles)\n",
    "    level_tile_size = int(full_tile_size/(2**level))\n",
    "    bins = np.zeros(num_bins)\n",
    "    for x in range(width_in_tiles):\n",
    "        print(wsi_path,': col ', x, ' of ', width_in_tiles, end=\"\\r\")\n",
    "        for y in range(height_in_tiles):\n",
    "            if ROI_map_arr[y][x] == 1:\n",
    "                tile = wsi.read_region((x*full_tile_size,y*full_tile_size), 0, (full_tile_size,full_tile_size))\n",
    "                #downsample tile\n",
    "                scaled_tile = tile.resize((level_tile_size, level_tile_size))                                \n",
    "                bins = np.add(bins,color_distance_bins(scaled_tile, base_brown, num_bins=num_bins))\n",
    "    print('\\n')\n",
    "    \n",
    "    total_ROI_pixel_area = (level_tile_size*level_tile_size)*num_ROI_tiles\n",
    "    bins =  np.multiply(np.divide(bins, float(total_ROI_pixel_area)), 100)\n",
    "    return bins"
   ]
  },
  {
   "cell_type": "code",
   "execution_count": 4,
   "id": "ad87f5f3-377a-47ec-a9f5-af7979f5a741",
   "metadata": {},
   "outputs": [
    {
     "name": "stdout",
     "output_type": "stream",
     "text": [
      "../WSI/ext_wsi/M-834-21 SP142/M-834-21 SP142.tiff : col  325  of  326\n",
      "\n",
      "../WSI/ext_wsi/M-534-20-1 SP142/M-534-20-1 SP142.tiff : col  311  of  312\n",
      "\n",
      "../WSI/ext_wsi/M-527-20 MA2-SP142/M-527-20 MA2-SP142.tiff : col  165  of  166\n",
      "\n",
      "../WSI/ext_wsi/M-527-20 MA1-SP142/M-527-20 MA1-SP142.tiff : col  196  of  197\n",
      "\n",
      "../WSI/ext_wsi/M-360-20 SP142/M-360-20 SP142.tiff : col  366  of  367\n",
      "\n",
      "../WSI/ext_wsi/M-313-20 SP142/M-313-20 SP142.tiff : col  208  of  209\n",
      "\n",
      "../WSI/ext_wsi/M-182-20-A1 SP142/M-182-20-A1 SP142.tiff : col  218  of  219\n",
      "\n",
      "../WSI/ext_wsi/M-180-20 SP142/M-180-20 SP142.tiff : col  150  of  151\n",
      "\n",
      "../WSI/ext_wsi/M-67-21-1-SP142 (4)/M-67-21-1-SP142 (4).tiff : col  244  of  245\n",
      "\n",
      "../WSI/ext_wsi/M-3784-20-A1 SP142/M-3784-20-A1 SP142.tiff : col  335  of  336\n",
      "\n",
      "time:  4881\n"
     ]
    }
   ],
   "source": [
    "level = 2\n",
    "ROI_threshold_arr = [0.95]\n",
    "base_brown = [117.3, 88.9, 67.3]\n",
    "use_normalized = True\n",
    "num_bins_arr = [100]\n",
    "\n",
    "for ROI_threshold in ROI_threshold_arr:\n",
    "    for num_bins in num_bins_arr:\n",
    "        start_time = time.time()\n",
    "\n",
    "        wsi_bins_arr = np.empty([len(ext_ts_set), num_bins])\n",
    "\n",
    "        for i, slide_name in enumerate(ext_ts_set):\n",
    "            bins = calculate_pdl1_score_bins(slide_name, level, ROI_threshold, base_brown, num_bins, use_normalized=use_normalized)\n",
    "            wsi_bins_arr[i] = bins\n",
    "\n",
    "        end_time = time.time()\n",
    "        print('time: ', \"{:.0f}\".format(end_time - start_time))\n",
    "\n",
    "        np.save('../ML_models/bins/bins_arr_test_3ext'+str(num_bins)+'r'+str(ROI_threshold)+'.npy', wsi_bins_arr)"
   ]
  },
  {
   "cell_type": "code",
   "execution_count": 5,
   "id": "73f03bc0-4fa4-4a07-959b-fdf86c563b44",
   "metadata": {},
   "outputs": [
    {
     "name": "stdout",
     "output_type": "stream",
     "text": [
      "../WSI/ext_wsi/M-834-21 SP142/M-834-21 SP142.tiff : col  325  of  326\n",
      "\n",
      "../WSI/ext_wsi/M-534-20-1 SP142/M-534-20-1 SP142.tiff : col  311  of  312\n",
      "\n",
      "../WSI/ext_wsi/M-527-20 MA2-SP142/M-527-20 MA2-SP142.tiff : col  165  of  166\n",
      "\n",
      "../WSI/ext_wsi/M-527-20 MA1-SP142/M-527-20 MA1-SP142.tiff : col  196  of  197  of  197\n",
      "\n",
      "../WSI/ext_wsi/M-360-20 SP142/M-360-20 SP142.tiff : col  366  of  367\n",
      "\n",
      "../WSI/ext_wsi/M-313-20 SP142/M-313-20 SP142.tiff : col  208  of  209\n",
      "\n",
      "../WSI/ext_wsi/M-182-20-A1 SP142/M-182-20-A1 SP142.tiff : col  218  of  219\n",
      "\n",
      "../WSI/ext_wsi/M-180-20 SP142/M-180-20 SP142.tiff : col  150  of  151\n",
      "\n",
      "../WSI/ext_wsi/M-67-21-1-SP142 (4)/M-67-21-1-SP142 (4).tiff : col  244  of  245\n",
      "\n",
      "../WSI/ext_wsi/M-3784-20-A1 SP142/M-3784-20-A1 SP142.tiff : col  335  of  336\n",
      "\n",
      "time:  4850\n"
     ]
    }
   ],
   "source": [
    "level = 2\n",
    "ROI_threshold_arr = [0.95]\n",
    "base_brown = [117.3, 88.9, 67.3]\n",
    "use_normalized = True\n",
    "num_bins_arr = [40]\n",
    "\n",
    "for ROI_threshold in ROI_threshold_arr:\n",
    "    for num_bins in num_bins_arr:\n",
    "        start_time = time.time()\n",
    "\n",
    "        wsi_bins_arr = np.empty([len(ext_ts_set), num_bins])\n",
    "\n",
    "        for i, slide_name in enumerate(ext_ts_set):\n",
    "            bins = calculate_pdl1_score_bins(slide_name, level, ROI_threshold, base_brown, num_bins, use_normalized=use_normalized)\n",
    "            wsi_bins_arr[i] = bins\n",
    "\n",
    "        end_time = time.time()\n",
    "        print('time: ', \"{:.0f}\".format(end_time - start_time))\n",
    "\n",
    "        np.save('../ML_models/bins/bins_arr_test_3ext'+str(num_bins)+'r'+str(ROI_threshold)+'.npy', wsi_bins_arr)"
   ]
  },
  {
   "cell_type": "code",
   "execution_count": 6,
   "id": "8ea3a518-6918-4f74-b038-bad631133e05",
   "metadata": {},
   "outputs": [
    {
     "name": "stdout",
     "output_type": "stream",
     "text": [
      "../WSI/ext_wsi/M-834-21 SP142/M-834-21 SP142.tiff : col  325  of  326\n",
      "\n",
      "../WSI/ext_wsi/M-534-20-1 SP142/M-534-20-1 SP142.tiff : col  311  of  312\n",
      "\n",
      "../WSI/ext_wsi/M-527-20 MA2-SP142/M-527-20 MA2-SP142.tiff : col  165  of  166  of  166\n",
      "\n",
      "../WSI/ext_wsi/M-527-20 MA1-SP142/M-527-20 MA1-SP142.tiff : col  196  of  197\n",
      "\n",
      "../WSI/ext_wsi/M-360-20 SP142/M-360-20 SP142.tiff : col  366  of  367\n",
      "\n",
      "../WSI/ext_wsi/M-313-20 SP142/M-313-20 SP142.tiff : col  208  of  209\n",
      "\n",
      "../WSI/ext_wsi/M-182-20-A1 SP142/M-182-20-A1 SP142.tiff : col  218  of  219 219\n",
      "\n",
      "../WSI/ext_wsi/M-180-20 SP142/M-180-20 SP142.tiff : col  150  of  151\n",
      "\n",
      "../WSI/ext_wsi/M-67-21-1-SP142 (4)/M-67-21-1-SP142 (4).tiff : col  244  of  245\n",
      "\n",
      "../WSI/ext_wsi/M-3784-20-A1 SP142/M-3784-20-A1 SP142.tiff : col  335  of  336\n",
      "\n",
      "time:  4436\n"
     ]
    }
   ],
   "source": [
    "level = 2\n",
    "ROI_threshold_arr = [0.9]\n",
    "base_brown = [117.3, 88.9, 67.3]\n",
    "use_normalized = True\n",
    "num_bins_arr = [40]\n",
    "\n",
    "for ROI_threshold in ROI_threshold_arr:\n",
    "    for num_bins in num_bins_arr:\n",
    "        start_time = time.time()\n",
    "\n",
    "        wsi_bins_arr = np.empty([len(ext_ts_set), num_bins])\n",
    "\n",
    "        for i, slide_name in enumerate(ext_ts_set):\n",
    "            bins = calculate_pdl1_score_bins(slide_name, level, ROI_threshold, base_brown, num_bins, use_normalized=use_normalized)\n",
    "            wsi_bins_arr[i] = bins\n",
    "\n",
    "        end_time = time.time()\n",
    "        print('time: ', \"{:.0f}\".format(end_time - start_time))\n",
    "\n",
    "        np.save('../ML_models/bins/bins_arr_test_3ext'+str(num_bins)+'r'+str(ROI_threshold)+'.npy', wsi_bins_arr)"
   ]
  },
  {
   "cell_type": "markdown",
   "id": "4fa95130-31bc-4aa1-b4d9-68b902ef0ba1",
   "metadata": {},
   "source": [
    "# Manual artifact elimination roi "
   ]
  },
  {
   "cell_type": "code",
   "execution_count": 10,
   "id": "16315c93-357b-43e4-9a4a-33e74999505f",
   "metadata": {},
   "outputs": [
    {
     "name": "stdout",
     "output_type": "stream",
     "text": [
      "../WSI/ext_wsi/M-1163-20 SP142/M-1163-20 SP142.tiff : col  220  of  221 col  100  of  221 221\n",
      "\n",
      "time:  97\n"
     ]
    }
   ],
   "source": [
    "level = 2\n",
    "ROI_threshold_arr = [0.95]\n",
    "base_brown = [117.3, 88.9, 67.3]\n",
    "use_normalized = True\n",
    "num_bins_arr = [100]\n",
    "use_manual_art = True\n",
    "\n",
    "artifact_set = ['M-1163-20 SP142']\n",
    "\n",
    "for ROI_threshold in ROI_threshold_arr:\n",
    "    for num_bins in num_bins_arr:\n",
    "        start_time = time.time()\n",
    "        for i, slide_name in enumerate(artifact_set):\n",
    "            bins = calculate_pdl1_score_bins(slide_name, level, ROI_threshold,\n",
    "                                             base_brown, num_bins, use_manual_art=use_manual_art)\n",
    "            np.save('../ML_models/bins/manual_ext/'+slide_name+'_bins_'+str(num_bins)+'r'+str(ROI_threshold)+'.npy', bins)\n",
    "\n",
    "        end_time = time.time()\n",
    "        print('time: ', \"{:.0f}\".format(end_time - start_time))"
   ]
  }
 ],
 "metadata": {
  "kernelspec": {
   "display_name": "Python 3",
   "language": "python",
   "name": "python3"
  },
  "language_info": {
   "codemirror_mode": {
    "name": "ipython",
    "version": 3
   },
   "file_extension": ".py",
   "mimetype": "text/x-python",
   "name": "python",
   "nbconvert_exporter": "python",
   "pygments_lexer": "ipython3",
   "version": "3.7.11"
  }
 },
 "nbformat": 4,
 "nbformat_minor": 5
}
