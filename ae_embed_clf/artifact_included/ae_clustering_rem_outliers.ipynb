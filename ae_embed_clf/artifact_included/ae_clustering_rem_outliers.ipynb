{
 "cells": [
  {
   "cell_type": "code",
   "execution_count": 1,
   "id": "8f58faae-865f-4b8e-a0af-4dce7a75586e",
   "metadata": {},
   "outputs": [],
   "source": [
    "import os\n",
    "import numpy as np\n",
    "import matplotlib.pyplot as plt\n",
    "import plotly.express as px\n",
    "import json\n",
    "from PIL import Image\n",
    "import pickle\n",
    "import time\n",
    "\n",
    "from sklearn.cluster import DBSCAN\n",
    "from sklearn.cluster import KMeans\n",
    "from sklearn.manifold import TSNE\n",
    "from sklearn.decomposition import PCA\n",
    "\n",
    "from define_dataset import define_dataset\n",
    "from define_ext_dataset import define_ext_dataset\n",
    "from remove_outliers_clustering import find_and_remove_outliers_clustering, remove_outliers_clustering"
   ]
  },
  {
   "cell_type": "code",
   "execution_count": 2,
   "id": "acf24c5b-31a9-4f15-98ba-3f2c32fc1397",
   "metadata": {},
   "outputs": [],
   "source": [
    "dataset = define_dataset()\n",
    "tr_set = dataset.tr_set\n",
    "test_set = dataset.test_set\n",
    "results_dict = dataset.results_dict\n",
    "num_positives = dataset.num_positives\n",
    "num_negatives = dataset.num_negatives"
   ]
  },
  {
   "cell_type": "code",
   "execution_count": 3,
   "id": "dcc6de22-6f0e-4a96-846e-f8893ec3b48b",
   "metadata": {},
   "outputs": [],
   "source": [
    "ext_dataset = define_ext_dataset()\n",
    "\n",
    "ext_ts_set = ext_dataset.data\n",
    "ext_results_dict = ext_dataset.results_dict\n",
    "num_positive_ext = ext_dataset.num_positives\n",
    "num_negatives_ext = ext_dataset.num_negatives\n",
    "batch1_ext = ext_dataset.batch1\n",
    "batch2_ext = ext_dataset.batch2\n",
    "batch3_ext = ext_dataset.batch3"
   ]
  },
  {
   "cell_type": "markdown",
   "id": "5f90369d-c8d1-4530-97c5-198fa709a0e2",
   "metadata": {
    "tags": []
   },
   "source": [
    "# Cluster labels subdivision by slide"
   ]
  },
  {
   "cell_type": "code",
   "execution_count": 4,
   "id": "cbff8f6d-6fac-4939-9ea7-003cc3516211",
   "metadata": {},
   "outputs": [],
   "source": [
    "def subdivide_clusters_by_slide(n_clusters, labels, percentile, dataset='tr'):\n",
    "    # Labels are still ordered by slide, ie the first 25000 tiles are from the first slide, tile 25001\n",
    "    # to 70000 is from the second slide and so on\n",
    "    \n",
    "    if dataset=='ts':\n",
    "        num_tiles_dict = num_tiles_dict_ts\n",
    "    elif dataset=='ext':\n",
    "        num_tiles_dict = num_tiles_dict_ext\n",
    "    else:\n",
    "        num_tiles_dict = num_tiles_dict_tr\n",
    "    \n",
    "    # Save path\n",
    "    slide_cluster_pth = \"./clustering/ae/slide_clusters_rem_outliers/kmeans{}_out_perc{}\".format(\n",
    "        n_clusters, percentile)\n",
    "    if not os.path.exists(slide_cluster_pth):\n",
    "        os.makedirs(slide_cluster_pth)\n",
    "    \n",
    "    # Count tile labels for each slide and save them in same slide folder\n",
    "    start = 0\n",
    "    end = 0\n",
    "    for slide_name in num_tiles_dict:\n",
    "        slide_num_tiles = num_tiles_dict[slide_name]\n",
    "        end += slide_num_tiles\n",
    "        slide_labels = labels[start:end]\n",
    "        start += slide_num_tiles\n",
    "        np.save(os.path.join(slide_cluster_pth, slide_name+\".npy\"), slide_labels)"
   ]
  },
  {
   "cell_type": "markdown",
   "id": "609e5cdf-b293-4dad-bb44-9c34dbeccc0b",
   "metadata": {},
   "source": [
    "# Import num tiles dicts"
   ]
  },
  {
   "cell_type": "code",
   "execution_count": 5,
   "id": "a0f80af7-74cd-4481-958d-2c30e6cb3563",
   "metadata": {},
   "outputs": [],
   "source": [
    "# Dicts with number of tiles for each slide\n",
    "tiles_num_dict_path = './data/num_tiles_dict_tr.json'\n",
    "with open(tiles_num_dict_path) as json_file:\n",
    "    num_tiles_dict_tr = json.load(json_file)\n",
    "    \n",
    "tiles_num_dict_path = './data/num_tiles_dict_ts.json'\n",
    "with open(tiles_num_dict_path) as json_file:\n",
    "    num_tiles_dict_ts = json.load(json_file)\n",
    "\n",
    "tiles_num_dict_path = './data/num_tiles_dict_ext.json'\n",
    "with open(tiles_num_dict_path) as json_file:\n",
    "    num_tiles_dict_ext = json.load(json_file)"
   ]
  },
  {
   "cell_type": "code",
   "execution_count": 6,
   "id": "cd9db56a-0b6c-42e8-b7b0-a07a270568f5",
   "metadata": {},
   "outputs": [],
   "source": [
    " def get_tile(index, dataset='tr'):\n",
    "    tiles_path='../WSI/tiles/'\n",
    "    curr_tiles_sum = 0\n",
    "    \n",
    "    if dataset=='ts':\n",
    "        num_tiles_dict = num_tiles_dict_ts\n",
    "    elif dataset=='ext':\n",
    "        num_tiles_dict = num_tiles_dict_ext\n",
    "    else:\n",
    "        num_tiles_dict = num_tiles_dict_tr\n",
    "\n",
    "    for slide_name in num_tiles_dict:\n",
    "        if index < curr_tiles_sum + num_tiles_dict[slide_name]:\n",
    "            selected_slide_name = slide_name\n",
    "            break\n",
    "        curr_tiles_sum += num_tiles_dict[slide_name]\n",
    "\n",
    "    tile_idx = index - curr_tiles_sum\n",
    "\n",
    "    tile_path = os.path.join(tiles_path, selected_slide_name, str(tile_idx) + '.jpg')\n",
    "\n",
    "    img = Image.open(tile_path)\n",
    "\n",
    "\n",
    "    return img, selected_slide_name"
   ]
  },
  {
   "cell_type": "markdown",
   "id": "14172b54-20da-4cb8-a125-0559c1e88efa",
   "metadata": {},
   "source": [
    "# Import tile embeddings"
   ]
  },
  {
   "cell_type": "code",
   "execution_count": 7,
   "id": "bd9fd39e-a982-46ae-8754-3cbb0faee831",
   "metadata": {},
   "outputs": [],
   "source": [
    "epoch = 20\n",
    "save_model_path = './ae_models/ae/'\n",
    "\n",
    "embed_path_tr = os.path.join(save_model_path, 'z_ae_test_epoch{}.npy'.format(epoch))\n",
    "embed_tiles_tr = np.load(embed_path_tr)\n",
    "\n",
    "embed_path_ts = os.path.join(save_model_path, 'z_ae_internal_test_epoch{}.npy'.format(epoch))\n",
    "embed_tiles_ts = np.load(embed_path_ts)\n",
    "\n",
    "embed_path_ext = os.path.join(save_model_path, 'z_ae_ext_test_epoch{}.npy'.format(epoch))\n",
    "embed_tiles_ext = np.load(embed_path_ext)"
   ]
  },
  {
   "cell_type": "markdown",
   "id": "3a4018c2-b72d-4079-ab6a-125568141c92",
   "metadata": {},
   "source": [
    "# Remove Outliers from clustering and find max in Tr set"
   ]
  },
  {
   "cell_type": "code",
   "execution_count": 8,
   "id": "5d599ee2-54d8-472e-8772-d5ea84170794",
   "metadata": {},
   "outputs": [],
   "source": [
    "n_clusters_arr = [32, 64, 128, 256]\n",
    "#n_clusters_arr = [32]"
   ]
  },
  {
   "cell_type": "code",
   "execution_count": 9,
   "id": "592f5d95-8859-45b7-a89c-0ce6991d3dc7",
   "metadata": {},
   "outputs": [],
   "source": [
    "perc_arr = [75, 80, 85, 90]"
   ]
  },
  {
   "cell_type": "markdown",
   "id": "31d9e170-04e8-4831-9b8e-0c4db89d48e2",
   "metadata": {},
   "source": [
    "Remove from each cluster the tiles with distance from centroid > selceted percentile"
   ]
  },
  {
   "cell_type": "code",
   "execution_count": 10,
   "id": "dfdbaaf9-9641-4455-a902-aec5248fae12",
   "metadata": {},
   "outputs": [
    {
     "name": "stdout",
     "output_type": "stream",
     "text": [
      "Finished 32 clusters, percentile 75\n",
      "Finished 32 clusters, percentile 80\n",
      "Finished 32 clusters, percentile 85\n",
      "Finished 32 clusters, percentile 90\n",
      "Finished 64 clusters, percentile 75\n",
      "Finished 64 clusters, percentile 80\n",
      "Finished 64 clusters, percentile 85\n",
      "Finished 64 clusters, percentile 90\n",
      "Finished 128 clusters, percentile 75\n",
      "Finished 128 clusters, percentile 80\n",
      "Finished 128 clusters, percentile 85\n",
      "Finished 128 clusters, percentile 90\n",
      "Finished 256 clusters, percentile 75\n",
      "Finished 256 clusters, percentile 80\n",
      "Finished 256 clusters, percentile 85\n",
      "Finished 256 clusters, percentile 90\n"
     ]
    }
   ],
   "source": [
    "# 3d array of labels. dims=(n_clusters, num_percentiles, num_labels)\n",
    "labels_arr = []\n",
    "\n",
    "for i, n_clusters in enumerate(n_clusters_arr):\n",
    "    kmeans_pth = os.path.join(\"./clustering\", \"ae\", \"kmeans{}\".format(n_clusters))\n",
    "    kmeans = pickle.load(open(kmeans_pth, 'rb'))\n",
    "    \n",
    "    labels_arr.append([])\n",
    "\n",
    "    for percentile in perc_arr:\n",
    "        # Find max distance for each cluster based on percentile\n",
    "        clusters_max_dist_arr, new_labels = find_and_remove_outliers_clustering(\n",
    "            kmeans.labels_, embed_tiles_tr, n_clusters, kmeans.cluster_centers_, percentile) \n",
    "\n",
    "        labels_arr[i].append(new_labels)\n",
    "\n",
    "        # Subdivide all tiles based by original slide\n",
    "        subdivide_clusters_by_slide(n_clusters, new_labels, percentile)\n",
    "\n",
    "        # Save max distances for each cluster\n",
    "        max_dist_cluster_pth = os.path.join(\"./clustering\", \"ae\", \"max_dist_outliers\")\n",
    "        if not os.path.exists(max_dist_cluster_pth):\n",
    "            os.makedirs(max_dist_cluster_pth)\n",
    "        np.save(max_dist_cluster_pth+\"/max_dist_outliers{}_{}.npy\".format(percentile, n_clusters), clusters_max_dist_arr)\n",
    "        print('Finished {} clusters, percentile {}'.format(n_clusters, percentile))"
   ]
  },
  {
   "cell_type": "markdown",
   "id": "7c41f698-18e1-4fc2-883d-5ac98d8e915b",
   "metadata": {},
   "source": [
    "Count outlier tiles"
   ]
  },
  {
   "cell_type": "code",
   "execution_count": 11,
   "id": "33e5f02a-6f25-4d7c-b136-1fa71cc76146",
   "metadata": {},
   "outputs": [
    {
     "name": "stdout",
     "output_type": "stream",
     "text": [
      "KMEANS: 32\n",
      "PERC: 75\n",
      "outliers: 332991\n",
      "tot: 1331953\n",
      "PERC: 80\n",
      "outliers: 266398\n",
      "tot: 1331953\n",
      "PERC: 85\n",
      "outliers: 199801\n",
      "tot: 1331953\n",
      "PERC: 90\n",
      "outliers: 133207\n",
      "tot: 1331953\n",
      "KMEANS: 64\n",
      "PERC: 75\n",
      "outliers: 332995\n",
      "tot: 1331953\n",
      "PERC: 80\n",
      "outliers: 266405\n",
      "tot: 1331953\n",
      "PERC: 85\n",
      "outliers: 199816\n",
      "tot: 1331953\n",
      "PERC: 90\n",
      "outliers: 133220\n",
      "tot: 1331953\n",
      "KMEANS: 128\n",
      "PERC: 75\n",
      "outliers: 333005\n",
      "tot: 1331953\n",
      "PERC: 80\n",
      "outliers: 266419\n",
      "tot: 1331953\n",
      "PERC: 85\n",
      "outliers: 199837\n",
      "tot: 1331953\n",
      "PERC: 90\n",
      "outliers: 133240\n",
      "tot: 1331953\n",
      "KMEANS: 256\n",
      "PERC: 75\n",
      "outliers: 333022\n",
      "tot: 1331953\n",
      "PERC: 80\n",
      "outliers: 266446\n",
      "tot: 1331953\n",
      "PERC: 85\n",
      "outliers: 199874\n",
      "tot: 1331953\n",
      "PERC: 90\n",
      "outliers: 133286\n",
      "tot: 1331953\n"
     ]
    }
   ],
   "source": [
    "for i, n_clusters in enumerate(n_clusters_arr):\n",
    "    print('KMEANS:', n_clusters)\n",
    "    for j, percentile in enumerate(perc_arr):\n",
    "        print('PERC:', percentile)\n",
    "        labels = labels_arr[i][j]\n",
    "        print('outliers:', np.count_nonzero(labels == -1))\n",
    "        print('tot:', len(labels))"
   ]
  },
  {
   "cell_type": "markdown",
   "id": "a47fa447-739f-4771-ab21-25012f5371b2",
   "metadata": {},
   "source": [
    "# Show tiles"
   ]
  },
  {
   "cell_type": "code",
   "execution_count": 12,
   "id": "5c4bc1ac-e571-45d2-bda0-73a85c8918c6",
   "metadata": {},
   "outputs": [
    {
     "ename": "TypeError",
     "evalue": "list indices must be integers or slices, not list",
     "output_type": "error",
     "traceback": [
      "\u001b[1;31m---------------------------------------------------------------------------\u001b[0m",
      "\u001b[1;31mTypeError\u001b[0m                                 Traceback (most recent call last)",
      "\u001b[1;32m<ipython-input-12-d2af032f36e5>\u001b[0m in \u001b[0;36m<module>\u001b[1;34m\u001b[0m\n\u001b[0;32m     11\u001b[0m \u001b[1;33m\u001b[0m\u001b[0m\n\u001b[0;32m     12\u001b[0m \u001b[1;33m\u001b[0m\u001b[0m\n\u001b[1;32m---> 13\u001b[1;33m         \u001b[0mcluster_index\u001b[0m \u001b[1;33m=\u001b[0m \u001b[1;33m[\u001b[0m\u001b[0mi\u001b[0m \u001b[1;32mfor\u001b[0m \u001b[0mi\u001b[0m\u001b[1;33m,\u001b[0m \u001b[0mx\u001b[0m \u001b[1;32min\u001b[0m \u001b[0menumerate\u001b[0m\u001b[1;33m(\u001b[0m\u001b[0mlabels_arr\u001b[0m\u001b[1;33m[\u001b[0m\u001b[0mcluster_index\u001b[0m\u001b[1;33m]\u001b[0m\u001b[1;33m[\u001b[0m\u001b[0mperc_index\u001b[0m\u001b[1;33m]\u001b[0m\u001b[1;33m)\u001b[0m \u001b[1;32mif\u001b[0m \u001b[0mx\u001b[0m \u001b[1;33m==\u001b[0m \u001b[0mc\u001b[0m\u001b[1;33m]\u001b[0m\u001b[1;33m\u001b[0m\u001b[1;33m\u001b[0m\u001b[0m\n\u001b[0m\u001b[0;32m     14\u001b[0m         \u001b[0mrandom_indexes\u001b[0m \u001b[1;33m=\u001b[0m \u001b[0mnp\u001b[0m\u001b[1;33m.\u001b[0m\u001b[0mrandom\u001b[0m\u001b[1;33m.\u001b[0m\u001b[0mchoice\u001b[0m\u001b[1;33m(\u001b[0m\u001b[0mcluster_index\u001b[0m\u001b[1;33m,\u001b[0m \u001b[0msize\u001b[0m\u001b[1;33m=\u001b[0m\u001b[0mnum_tiles_per_cluster\u001b[0m\u001b[1;33m,\u001b[0m \u001b[0mreplace\u001b[0m\u001b[1;33m=\u001b[0m\u001b[1;32mFalse\u001b[0m\u001b[1;33m)\u001b[0m\u001b[1;33m\u001b[0m\u001b[1;33m\u001b[0m\u001b[0m\n\u001b[0;32m     15\u001b[0m \u001b[1;33m\u001b[0m\u001b[0m\n",
      "\u001b[1;31mTypeError\u001b[0m: list indices must be integers or slices, not list"
     ]
    }
   ],
   "source": [
    "num_tiles_per_cluster = 5\n",
    "cluster_index = 1\n",
    "perc_index = 0\n",
    "\n",
    "for n_clusters in n_clusters_arr:\n",
    "    \n",
    "    clusters_indexes_arr = []\n",
    "\n",
    "    for c in range(n_clusters):\n",
    "        fig, axs = plt.subplots(n_clusters, num_tiles_per_cluster, figsize=(10,2.5*n_clusters))\n",
    "\n",
    "        \n",
    "        cluster_index = [i for i, x in enumerate(labels_arr[cluster_index][perc_index]) if x == c]\n",
    "        random_indexes = np.random.choice(cluster_index, size=num_tiles_per_cluster, replace=False)\n",
    "        \n",
    "        for j, rand_idx in enumerate(random_indexes):\n",
    "            tile, slide_name = get_tile(rand_idx)\n",
    "            axs[c][j].imshow(tile)\n",
    "            axs[c][j].axis('off')\n",
    "            if results_dict[slide_name] == 1:\n",
    "                positivity = 'pos'\n",
    "            else:\n",
    "                positivity = 'neg'\n",
    "            #axs[c][j].set_title('cluster '+str(c)+\" - \"+slide_name + ' ' + positivity)\n",
    "            axs[c][j].set_title('cluster '+str(c)+' - ' + positivity)\n",
    "    fig.suptitle('Kmeans-{}'.format(n_clusters))\n",
    "    plt.show()"
   ]
  },
  {
   "cell_type": "code",
   "execution_count": null,
   "id": "66b3ef74-0ab2-45a6-9770-43723e4df982",
   "metadata": {},
   "outputs": [],
   "source": [
    "n_clusters = 64\n",
    "\n",
    "kmeans_pth = os.path.join(\"./clustering\", \"ae\", \"kmeans{}\".format(n_clusters))\n",
    "kmeans = pickle.load(open(kmeans_pth, 'rb'))\n",
    "labels = kmeans.labels_\n",
    "\n",
    "#unique, counts = np.unique(labels, return_counts=True)\n",
    "#dict(zip(unique, np.divide(counts*100, len(labels))))"
   ]
  },
  {
   "cell_type": "markdown",
   "id": "356dff46-eb70-48db-a61f-1005a516e63f",
   "metadata": {},
   "source": [
    "# Internal test set"
   ]
  },
  {
   "cell_type": "code",
   "execution_count": 13,
   "id": "02d62e11-9fc7-4595-a9ec-47c426ad29ba",
   "metadata": {},
   "outputs": [],
   "source": [
    "n_clusters_arr = [32, 64, 128, 256]\n",
    "#n_clusters_arr = [32]"
   ]
  },
  {
   "cell_type": "code",
   "execution_count": 14,
   "id": "31f9106c-c592-4623-8591-06a3bc1ee782",
   "metadata": {},
   "outputs": [],
   "source": [
    "perc_arr = [75, 80, 85, 90]"
   ]
  },
  {
   "cell_type": "code",
   "execution_count": 15,
   "id": "3e61e690-3a07-4501-a36a-54fd524752d5",
   "metadata": {},
   "outputs": [
    {
     "name": "stdout",
     "output_type": "stream",
     "text": [
      "Doing 32 clusters\n",
      "Finished 32 clusters, percentile 75\n",
      "Finished 32 clusters, percentile 80\n",
      "Finished 32 clusters, percentile 85\n",
      "Finished 32 clusters, percentile 90\n",
      "Doing 64 clusters\n",
      "Finished 64 clusters, percentile 75\n",
      "Finished 64 clusters, percentile 80\n",
      "Finished 64 clusters, percentile 85\n",
      "Finished 64 clusters, percentile 90\n",
      "Doing 128 clusters\n",
      "Finished 128 clusters, percentile 75\n",
      "Finished 128 clusters, percentile 80\n",
      "Finished 128 clusters, percentile 85\n",
      "Finished 128 clusters, percentile 90\n",
      "Doing 256 clusters\n",
      "Finished 256 clusters, percentile 75\n",
      "Finished 256 clusters, percentile 80\n",
      "Finished 256 clusters, percentile 85\n",
      "Finished 256 clusters, percentile 90\n"
     ]
    }
   ],
   "source": [
    "# 3d array of labels. dims=(n_clusters, num_percentiles, num_labels)\n",
    "labels_arr = []\n",
    "\n",
    "for i, n_clusters in enumerate(n_clusters_arr):\n",
    "    print('Doing {} clusters'.format(n_clusters))\n",
    "    \n",
    "    labels_arr.append([])\n",
    "    \n",
    "    # Recover kmeans model\n",
    "    kmeans_pth = os.path.join(\"./clustering\", \"ae\", \"kmeans{}\".format(n_clusters))\n",
    "    kmeans = pickle.load(open(kmeans_pth, 'rb'))\n",
    "    \n",
    "    # Predict labels\n",
    "    labels = kmeans.predict(embed_tiles_ts)\n",
    "        \n",
    "    for percentile in perc_arr:\n",
    "        # Recover max regarding a percentile\n",
    "        max_dist_cluster_pth = os.path.join(\n",
    "            \"./clustering\", \"ae\", \"max_dist_outliers\", \"max_dist_outliers{}_{}.npy\".format(percentile, n_clusters))\n",
    "        clusters_max_dist_arr = np.load(max_dist_cluster_pth)\n",
    "\n",
    "        # Apply removal of tiles with distance over max\n",
    "        new_labels = remove_outliers_clustering(clusters_max_dist_arr,\n",
    "            labels, embed_tiles_ts, n_clusters, kmeans.cluster_centers_) \n",
    "\n",
    "        labels_arr[i].append(new_labels)\n",
    "        # Subdivide all tiles based by original slide\n",
    "        subdivide_clusters_by_slide(n_clusters, new_labels, percentile, dataset='ts')\n",
    "\n",
    "        print('Finished {} clusters, percentile {}'.format(n_clusters, percentile))"
   ]
  },
  {
   "cell_type": "code",
   "execution_count": 16,
   "id": "677db7e3-7454-4718-a19f-d5efc8e028ee",
   "metadata": {},
   "outputs": [
    {
     "name": "stdout",
     "output_type": "stream",
     "text": [
      "32 CLUSTERS, PERCENTILE 75\n",
      "outliers: 63384\n",
      "tot: 207736\n",
      "32 CLUSTERS, PERCENTILE 80\n",
      "outliers: 53071\n",
      "tot: 207736\n",
      "32 CLUSTERS, PERCENTILE 85\n",
      "outliers: 42502\n",
      "tot: 207736\n",
      "32 CLUSTERS, PERCENTILE 90\n",
      "outliers: 31328\n",
      "tot: 207736\n",
      "64 CLUSTERS, PERCENTILE 75\n",
      "outliers: 62458\n",
      "tot: 207736\n",
      "64 CLUSTERS, PERCENTILE 80\n",
      "outliers: 52349\n",
      "tot: 207736\n",
      "64 CLUSTERS, PERCENTILE 85\n",
      "outliers: 41929\n",
      "tot: 207736\n",
      "64 CLUSTERS, PERCENTILE 90\n",
      "outliers: 30751\n",
      "tot: 207736\n",
      "128 CLUSTERS, PERCENTILE 75\n",
      "outliers: 62460\n",
      "tot: 207736\n",
      "128 CLUSTERS, PERCENTILE 80\n",
      "outliers: 52215\n",
      "tot: 207736\n",
      "128 CLUSTERS, PERCENTILE 85\n",
      "outliers: 41883\n",
      "tot: 207736\n",
      "128 CLUSTERS, PERCENTILE 90\n",
      "outliers: 30938\n",
      "tot: 207736\n",
      "256 CLUSTERS, PERCENTILE 75\n",
      "outliers: 62322\n",
      "tot: 207736\n",
      "256 CLUSTERS, PERCENTILE 80\n",
      "outliers: 52243\n",
      "tot: 207736\n",
      "256 CLUSTERS, PERCENTILE 85\n",
      "outliers: 41795\n",
      "tot: 207736\n",
      "256 CLUSTERS, PERCENTILE 90\n",
      "outliers: 30954\n",
      "tot: 207736\n"
     ]
    }
   ],
   "source": [
    "for i, n_clusters in enumerate(n_clusters_arr):\n",
    "    for j, percentile in enumerate(perc_arr):\n",
    "        labels = labels_arr[i][j]\n",
    "        print('{} CLUSTERS, PERCENTILE {}'.format(n_clusters, percentile))\n",
    "        print('outliers:', np.count_nonzero(labels == -1))\n",
    "        print('tot:', len(labels))"
   ]
  },
  {
   "cell_type": "markdown",
   "id": "69f1e4b8-5cd4-40c0-9a0c-dc887d48a64a",
   "metadata": {},
   "source": [
    "# External Test set"
   ]
  },
  {
   "cell_type": "code",
   "execution_count": 17,
   "id": "667e367a-238a-4ff4-8487-ef1c01470f73",
   "metadata": {},
   "outputs": [],
   "source": [
    "n_clusters_arr = [32, 64, 128, 256]\n",
    "#n_clusters_arr = [32]"
   ]
  },
  {
   "cell_type": "code",
   "execution_count": 18,
   "id": "992b6a78-d738-4620-81c3-63606577d5bc",
   "metadata": {},
   "outputs": [],
   "source": [
    "perc_arr = [75, 80, 85, 90]"
   ]
  },
  {
   "cell_type": "code",
   "execution_count": 19,
   "id": "ae9cc8f2-4d92-4f50-bf5f-2c778173572c",
   "metadata": {},
   "outputs": [
    {
     "name": "stdout",
     "output_type": "stream",
     "text": [
      "Doing 32 clusters\n",
      "Finished 32 clusters, percentile 75\n",
      "Finished 32 clusters, percentile 80\n",
      "Finished 32 clusters, percentile 85\n",
      "Finished 32 clusters, percentile 90\n",
      "Doing 64 clusters\n",
      "Finished 64 clusters, percentile 75\n",
      "Finished 64 clusters, percentile 80\n",
      "Finished 64 clusters, percentile 85\n",
      "Finished 64 clusters, percentile 90\n",
      "Doing 128 clusters\n",
      "Finished 128 clusters, percentile 75\n",
      "Finished 128 clusters, percentile 80\n",
      "Finished 128 clusters, percentile 85\n",
      "Finished 128 clusters, percentile 90\n",
      "Doing 256 clusters\n",
      "Finished 256 clusters, percentile 75\n",
      "Finished 256 clusters, percentile 80\n",
      "Finished 256 clusters, percentile 85\n",
      "Finished 256 clusters, percentile 90\n"
     ]
    }
   ],
   "source": [
    "# 3d array of labels. dims=(n_clusters, num_percentiles, num_labels)\n",
    "labels_arr = []\n",
    "\n",
    "for i, n_clusters in enumerate(n_clusters_arr):\n",
    "    print('Doing {} clusters'.format(n_clusters))\n",
    "    \n",
    "    # Recover kmeans model\n",
    "    kmeans_pth = os.path.join(\"./clustering\", \"ae\", \"kmeans{}\".format(n_clusters))\n",
    "    kmeans = pickle.load(open(kmeans_pth, 'rb'))\n",
    "    \n",
    "    labels_arr.append([])\n",
    "    \n",
    "    # Predict labels\n",
    "    labels = kmeans.predict(embed_tiles_ext)\n",
    "    \n",
    "    for percentile in perc_arr:\n",
    "        # Recover max regarding a percentile\n",
    "        max_dist_cluster_pth = os.path.join(\n",
    "            \"./clustering\", \"ae\", \"max_dist_outliers\", \"max_dist_outliers{}_{}.npy\".format(percentile, n_clusters))\n",
    "        clusters_max_dist_arr = np.load(max_dist_cluster_pth)\n",
    "\n",
    "        # Apply removal of tiles with distance over max\n",
    "        new_labels = remove_outliers_clustering(clusters_max_dist_arr,\n",
    "            labels, embed_tiles_ext, n_clusters, kmeans.cluster_centers_) \n",
    "\n",
    "        labels_arr[i].append(new_labels)\n",
    "        # Subdivide all tiles based by original slide\n",
    "        subdivide_clusters_by_slide(n_clusters, new_labels, percentile, dataset='ext')\n",
    "\n",
    "        print('Finished {} clusters, percentile {}'.format(n_clusters, percentile))"
   ]
  },
  {
   "cell_type": "markdown",
   "id": "3e8869ed-7f1c-4e61-84dc-2ecbc7192514",
   "metadata": {},
   "source": [
    "Count outlier tiles"
   ]
  },
  {
   "cell_type": "code",
   "execution_count": 20,
   "id": "96638eaa-40b0-4c48-9707-9e50dce3b58d",
   "metadata": {},
   "outputs": [
    {
     "name": "stdout",
     "output_type": "stream",
     "text": [
      "32 CLUSTERS, PERCENTILE 75\n",
      "outliers: 106063\n",
      "tot: 584729\n",
      "32 CLUSTERS, PERCENTILE 80\n",
      "outliers: 80846\n",
      "tot: 584729\n",
      "32 CLUSTERS, PERCENTILE 85\n",
      "outliers: 56788\n",
      "tot: 584729\n",
      "32 CLUSTERS, PERCENTILE 90\n",
      "outliers: 34237\n",
      "tot: 584729\n",
      "64 CLUSTERS, PERCENTILE 75\n",
      "outliers: 108217\n",
      "tot: 584729\n",
      "64 CLUSTERS, PERCENTILE 80\n",
      "outliers: 82822\n",
      "tot: 584729\n",
      "64 CLUSTERS, PERCENTILE 85\n",
      "outliers: 58228\n",
      "tot: 584729\n",
      "64 CLUSTERS, PERCENTILE 90\n",
      "outliers: 35115\n",
      "tot: 584729\n",
      "128 CLUSTERS, PERCENTILE 75\n",
      "outliers: 116732\n",
      "tot: 584729\n",
      "128 CLUSTERS, PERCENTILE 80\n",
      "outliers: 91009\n",
      "tot: 584729\n",
      "128 CLUSTERS, PERCENTILE 85\n",
      "outliers: 65421\n",
      "tot: 584729\n",
      "128 CLUSTERS, PERCENTILE 90\n",
      "outliers: 40812\n",
      "tot: 584729\n",
      "256 CLUSTERS, PERCENTILE 75\n",
      "outliers: 125287\n",
      "tot: 584729\n",
      "256 CLUSTERS, PERCENTILE 80\n",
      "outliers: 98850\n",
      "tot: 584729\n",
      "256 CLUSTERS, PERCENTILE 85\n",
      "outliers: 72744\n",
      "tot: 584729\n",
      "256 CLUSTERS, PERCENTILE 90\n",
      "outliers: 46892\n",
      "tot: 584729\n"
     ]
    }
   ],
   "source": [
    "for i, n_clusters in enumerate(n_clusters_arr):\n",
    "    for j, percentile in enumerate(perc_arr):\n",
    "        labels = labels_arr[i][j]\n",
    "        print('{} CLUSTERS, PERCENTILE {}'.format(n_clusters, percentile))\n",
    "        print('outliers:', np.count_nonzero(labels == -1))\n",
    "        print('tot:', len(labels))"
   ]
  },
  {
   "cell_type": "markdown",
   "id": "8b0a05b7-64ab-4032-bf56-35443c9ff3dc",
   "metadata": {},
   "source": [
    "Show tiles clusters ext"
   ]
  },
  {
   "cell_type": "code",
   "execution_count": null,
   "id": "6baffba8-d1c9-4b2f-9b7e-68e78e43c0bd",
   "metadata": {},
   "outputs": [],
   "source": [
    "num_tiles_per_cluster = 5\n",
    "cluster_index = 1\n",
    "perc_index = 0\n",
    "\n",
    "print(len(labels_arr[cluster_index][perc_index]))\n",
    "    \n",
    "clusters_indexes_arr = []\n",
    "fig, axs = plt.subplots(n_clusters, num_tiles_per_cluster, figsize=(10,2.5*n_clusters))\n",
    "\n",
    "for c in range(n_clusters):\n",
    "    \n",
    "    fig, axs = plt.subplots(n_clusters, num_tiles_per_cluster, figsize=(10,2.5*n_clusters))\n",
    "\n",
    "    cluster_index = [i for i, x in enumerate(labels_arr[cluster_index][perc_index]) if x == c]\n",
    "    \n",
    "    \n",
    "    if len(cluster_index) >= num_tiles_per_cluster: \n",
    "        random_indexes = np.random.choice(cluster_index, size=num_tiles_per_cluster, replace=False)\n",
    "\n",
    "        for j, rand_idx in enumerate(random_indexes):\n",
    "            tile, slide_name = get_tile(rand_idx, 'ext')\n",
    "            axs[c][j].imshow(tile)\n",
    "            axs[c][j].axis('off')\n",
    "            if ext_results_dict[slide_name] == 1:\n",
    "                positivity = 'pos'\n",
    "            else:\n",
    "                positivity = 'neg'\n",
    "            #axs[c][j].set_title('cluster '+str(c)+\" - \"+slide_name + ' ' + positivity)\n",
    "            axs[c][j].set_title('cluster '+str(c)+' - ' + positivity)\n",
    "    plt.suptitle('Kmeans-{}'.format(n_clusters))\n",
    "plt.show()"
   ]
  },
  {
   "cell_type": "markdown",
   "id": "c3615412-bbe4-4de7-bd78-6a38bf9ac896",
   "metadata": {},
   "source": [
    "Count samples percentage for each cluster"
   ]
  },
  {
   "cell_type": "code",
   "execution_count": null,
   "id": "fa7c7d75-5170-48e9-9bc1-800d0e6ccd7c",
   "metadata": {},
   "outputs": [],
   "source": [
    "unique, counts = np.unique(labels_arr[1], return_counts=True)\n",
    "dict(zip(unique, np.divide(counts*100, len(labels_arr[1]))))"
   ]
  }
 ],
 "metadata": {
  "kernelspec": {
   "display_name": "Python 3",
   "language": "python",
   "name": "python3"
  },
  "language_info": {
   "codemirror_mode": {
    "name": "ipython",
    "version": 3
   },
   "file_extension": ".py",
   "mimetype": "text/x-python",
   "name": "python",
   "nbconvert_exporter": "python",
   "pygments_lexer": "ipython3",
   "version": "3.7.11"
  }
 },
 "nbformat": 4,
 "nbformat_minor": 5
}
