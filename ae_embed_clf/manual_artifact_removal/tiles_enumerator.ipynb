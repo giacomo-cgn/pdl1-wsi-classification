{
 "cells": [
  {
   "cell_type": "code",
   "execution_count": 5,
   "id": "de816d55-5fac-4dc7-ad51-70c98502807b",
   "metadata": {},
   "outputs": [],
   "source": [
    "import json\n",
    "import os, os.path\n",
    "import random\n",
    "import numpy as np\n",
    "\n",
    "from define_dataset import define_dataset\n",
    "from define_ext_dataset import define_ext_dataset"
   ]
  },
  {
   "cell_type": "code",
   "execution_count": 2,
   "id": "b9016d1f-7762-4aa7-a8db-703c56463b32",
   "metadata": {},
   "outputs": [],
   "source": [
    "dataset = define_dataset()\n",
    "tr_set = dataset.tr_set\n",
    "test_set = dataset.test_set\n",
    "results_dict = dataset.results_dict\n",
    "num_positives = dataset.num_positives\n",
    "num_negatives = dataset.num_negatives"
   ]
  },
  {
   "cell_type": "code",
   "execution_count": 3,
   "id": "b8506ce3-200d-47ef-ab7c-e35de69bf295",
   "metadata": {},
   "outputs": [],
   "source": [
    "ext_dataset = define_ext_dataset()\n",
    "\n",
    "ext_ts_set = ext_dataset.data\n",
    "ext_results_dict = ext_dataset.results_dict\n",
    "num_positive_ext = ext_dataset.num_positives\n",
    "num_negatives_ext = ext_dataset.num_negatives\n",
    "batch1_ext = ext_dataset.batch1\n",
    "batch2_ext = ext_dataset.batch2\n",
    "batch3_ext = ext_dataset.batch3"
   ]
  },
  {
   "cell_type": "code",
   "execution_count": 4,
   "id": "c53b6dcd-8c45-4cd5-9941-d2343edbecd9",
   "metadata": {},
   "outputs": [],
   "source": [
    "num_tiles_dict = {}\n",
    "tiles_dir = '../WSI/tiles/'\n",
    "\n",
    "\n",
    "for slide_name in tr_set:\n",
    "    slide_dir = os.path.join(tiles_dir, slide_name)\n",
    "    num_tiles = len([name for name in os.listdir(slide_dir) if os.path.isfile(os.path.join(slide_dir, name))])\n",
    "    num_tiles_dict[slide_name] = num_tiles\n"
   ]
  },
  {
   "cell_type": "code",
   "execution_count": 12,
   "id": "54a1ef36-3de9-4805-a587-5aeee60d9707",
   "metadata": {},
   "outputs": [
    {
     "name": "stdout",
     "output_type": "stream",
     "text": [
      "{'19-COMP-004': 59893, '19-COMP-011': 15943, '19-COMP-012': 58901, '19-COMP-014': 107200, '19-COMP-016': 41026, '19-COMP-019': 25437, '19-COMP-029': 22002, '19-COMP-030': 36475, '19-COMP-032': 43212, '19-COMP-034': 44760, '20-COMP-050': 33530, '20-COMP-052': 38322, '20-COMP-054': 45128, '20-COMP-071': 24084, '20-COMP-088': 37216, '20-COMP-103': 21961, '20-COMP-113': 38629, '19-COMP-017': 13078, '19-COMP-020': 2702, '19-COMP-021': 27004, '19-COMP-044': 19782, '19-COMP-047': 34356, '20-COMP-055': 46094, '20-COMP-056': 19935, '20-COMP-059': 39897, '20-COMP-063': 43706, '20-COMP-066': 51616, '20-COMP-068': 68968, '20-COMP-070': 23960, '20-COMP-073': 21953, '20-COMP-075': 31328, '20-COMP-076': 69517, '20-COMP-078': 101871}\n"
     ]
    }
   ],
   "source": [
    "print(num_tiles_dict)\n",
    "\n",
    "my_json = json.dumps(num_tiles_dict)\n",
    "\n",
    "# open file for writing, \"w\" \n",
    "f = open(\"./data/num_tiles_dict_tr.json\",\"w\")\n",
    "\n",
    "# write json object to file\n",
    "f.write(my_json)\n",
    "\n",
    "# close file\n",
    "f.close()"
   ]
  },
  {
   "cell_type": "markdown",
   "id": "c8384f03-11a2-462d-8ca6-13593fc74054",
   "metadata": {},
   "source": [
    "Test set"
   ]
  },
  {
   "cell_type": "code",
   "execution_count": 6,
   "id": "7f146d86-ff0c-42ed-9978-ad5e8a66050c",
   "metadata": {},
   "outputs": [],
   "source": [
    "num_tiles_dict_ts = {}\n",
    "tiles_dir = '../WSI/tiles/'\n",
    "\n",
    "\n",
    "for slide_name in test_set:\n",
    "    slide_dir = os.path.join(tiles_dir, slide_name)\n",
    "    num_tiles = len([name for name in os.listdir(slide_dir) if os.path.isfile(os.path.join(slide_dir, name))])\n",
    "    num_tiles_dict_ts[slide_name] = num_tiles"
   ]
  },
  {
   "cell_type": "code",
   "execution_count": 9,
   "id": "2dc2fcd2-a3cf-4164-af8c-ee56d5aea2f4",
   "metadata": {},
   "outputs": [
    {
     "name": "stdout",
     "output_type": "stream",
     "text": [
      "{'20-COMP-077': 48696, '20-COMP-065': 42019, '19-COMP-039': 32897, '20-COMP-102': 33647, '19-COMP-037': 24193, '19-COMP-026': 25154}\n"
     ]
    }
   ],
   "source": [
    "print(num_tiles_dict_ts)\n",
    "\n",
    "my_json = json.dumps(num_tiles_dict_ts)\n",
    "\n",
    "# open file for writing, \"w\" \n",
    "f = open(\"./data/num_tiles_dict_ts.json\",\"w\")\n",
    "\n",
    "# write json object to file\n",
    "f.write(my_json)\n",
    "\n",
    "# close file\n",
    "f.close()"
   ]
  },
  {
   "cell_type": "markdown",
   "id": "54f189a3-fe6c-4309-983d-49fbf821b0eb",
   "metadata": {},
   "source": [
    "Ext set"
   ]
  },
  {
   "cell_type": "code",
   "execution_count": 10,
   "id": "312de425-ff86-4e6e-a8d0-ce80a8864918",
   "metadata": {},
   "outputs": [],
   "source": [
    "num_tiles_dict_ext = {}\n",
    "tiles_dir = '../WSI/tiles/'\n",
    "\n",
    "\n",
    "for slide_name in ext_ts_set:\n",
    "    slide_dir = os.path.join(tiles_dir, slide_name)\n",
    "    num_tiles = len([name for name in os.listdir(slide_dir) if os.path.isfile(os.path.join(slide_dir, name))])\n",
    "    num_tiles_dict_ext[slide_name] = num_tiles"
   ]
  },
  {
   "cell_type": "code",
   "execution_count": 11,
   "id": "82249518-8056-4649-9f91-c9e0441b322b",
   "metadata": {},
   "outputs": [
    {
     "name": "stdout",
     "output_type": "stream",
     "text": [
      "{'M-3784-20-A1 SP142': 46175, 'M-3905-20 SP142 (1)': 5575, 'M-534-20-1 SP142': 51277, 'M-834-21 SP142': 64521, 'M-1163-20 SP142': 4994, 'M-1242-20 SP142': 33267, 'M-180-20 (3) B1': 1853, 'M-180-20-A1 SP142': 1837, 'M-182-20-A1 SP142': 6030, 'M-313-20 SP142': 11467, 'M-3454-20-A1 SP142': 18114, 'M-3587-20 SP142': 36517, 'M-360-20 SP142': 104268, 'M-3760-20-A1 SP142': 6194, 'M-3914-20 SP142 (2)': 4416, 'M-4075-20 SP142 (2)': 658, 'M-4092-20 SP142 (2)': 2217, 'M-5248-20 SP142 (1)': 15695, 'M-527-20 MA1-SP142': 2543, 'M-527-20 MA2-SP142': 2800, 'M-5428-20 SP142': 25881, 'M-5696-20 (3)': 9129, 'M-5697-20 SP142': 30762, 'M-6052-20 A1-SP142': 48761, 'M-67-21-1-SP142 (4)': 10375}\n"
     ]
    }
   ],
   "source": [
    "print(num_tiles_dict_ext)\n",
    "\n",
    "my_json = json.dumps(num_tiles_dict_ext)\n",
    "\n",
    "# open file for writing, \"w\" \n",
    "f = open(\"./data/num_tiles_dict_ext.json\",\"w\")\n",
    "\n",
    "# write json object to file\n",
    "f.write(my_json)\n",
    "\n",
    "# close file\n",
    "f.close()"
   ]
  },
  {
   "cell_type": "markdown",
   "id": "6b7247aa-4687-4ecb-afb3-01f21a6a7b39",
   "metadata": {},
   "source": [
    "# Ext set with 4 random negs and 4 pos"
   ]
  },
  {
   "cell_type": "code",
   "execution_count": 5,
   "id": "625dae2b-fe0a-49f8-93a0-539e962b2792",
   "metadata": {},
   "outputs": [],
   "source": [
    "tiles_num_dict_path = './data/num_tiles_dict_ext.json'\n",
    "with open(tiles_num_dict_path) as json_file:\n",
    "    num_tiles_dict_ext = json.load(json_file)"
   ]
  },
  {
   "cell_type": "code",
   "execution_count": 8,
   "id": "18cf6e29-a82b-4a18-bc71-e323a768314c",
   "metadata": {},
   "outputs": [
    {
     "name": "stdout",
     "output_type": "stream",
     "text": [
      "['M-3784-20-A1 SP142', 'M-3905-20 SP142 (1)', 'M-534-20-1 SP142', 'M-834-21 SP142']\n",
      "['M-5428-20 SP142', 'M-313-20 SP142', 'M-180-20-A1 SP142', 'M-5696-20 (3)']\n"
     ]
    }
   ],
   "source": [
    "# Take all 4 pos slides\n",
    "pos = list(ext_results_dict.keys())[:4]\n",
    "print(pos)\n",
    "\n",
    "# Sample 4 random neg slides\n",
    "negs = list(ext_results_dict.keys())[4:]\n",
    "random_negs = random.sample(negs, k=4)\n",
    "print(random_negs)"
   ]
  },
  {
   "cell_type": "code",
   "execution_count": 23,
   "id": "ad992867-29f4-4d90-bcf0-47690f3594e3",
   "metadata": {},
   "outputs": [],
   "source": [
    "num_tiles_dict_ext_rand = {}\n",
    "for slide_name in pos:\n",
    "    num_tiles_dict_ext_rand[slide_name] = num_tiles_dict_ext[slide_name]\n",
    "\n",
    "for slide_name in random_negs:\n",
    "    num_tiles_dict_ext_rand[slide_name] = num_tiles_dict_ext[slide_name]"
   ]
  },
  {
   "cell_type": "code",
   "execution_count": 24,
   "id": "63bfffbc-6375-4861-8bd5-bfc4021763e9",
   "metadata": {},
   "outputs": [
    {
     "name": "stdout",
     "output_type": "stream",
     "text": [
      "{'M-3784-20-A1 SP142': 46175, 'M-3905-20 SP142 (1)': 5575, 'M-534-20-1 SP142': 51277, 'M-834-21 SP142': 64521, 'M-5428-20 SP142': 56842, 'M-313-20 SP142': 11467, 'M-180-20-A1 SP142': 1837, 'M-5696-20 (3)': 9129}\n"
     ]
    }
   ],
   "source": [
    "print(num_tiles_dict_ext_rand)\n",
    "\n",
    "my_json = json.dumps(num_tiles_dict_ext_rand)\n",
    "\n",
    "# open file for writing, \"w\" \n",
    "f = open(\"./data/num_tiles_dict_ext_rand.json\",\"w\")\n",
    "\n",
    "# write json object to file\n",
    "f.write(my_json)\n",
    "\n",
    "# close file\n",
    "f.close()"
   ]
  },
  {
   "cell_type": "markdown",
   "id": "f24fbe26-0dba-4b2f-a4f7-0311b09efe0d",
   "metadata": {},
   "source": [
    "# Combined datasets"
   ]
  },
  {
   "cell_type": "code",
   "execution_count": 6,
   "id": "c7c54ac0-c27c-4263-ac09-b6fd653ef070",
   "metadata": {},
   "outputs": [],
   "source": [
    "comb_tr_set = np.load('./data/comb_tr_set.npy')\n",
    "comb_val_set = np.load('./data/comb_val_set.npy')\n",
    "comb_ts_set = np.load('./data/comb_ts_set.npy')\n",
    "\n",
    "with open(\"./data/num_tiles_dict_tr.json\") as json_file_tr:\n",
    "    num_tiles_dict_tr = json.load(json_file_tr)\n",
    "with open(\"./data/num_tiles_dict_ts.json\") as json_file_ts:\n",
    "    num_tiles_dict_ts = json.load(json_file_ts)\n",
    "with open(\"./data/num_tiles_dict_ext.json\") as json_file_ext:\n",
    "    num_tiles_dict_ext = json.load(json_file_ext)\n",
    "\n",
    "\n",
    "num_tiles_dict_comb_tr = {}\n",
    "num_tiles_dict_comb_val = {}\n",
    "num_tiles_dict_comb_ts = {}\n",
    "\n",
    "# comb tr dict\n",
    "for slide_name in comb_tr_set:\n",
    "    n1 = num_tiles_dict_tr.get(slide_name)\n",
    "    n2 = num_tiles_dict_ts.get(slide_name)\n",
    "    n3 = num_tiles_dict_ext.get(slide_name)\n",
    "    if  n1 != None:\n",
    "        num_tiles_dict_comb_tr[slide_name] = n1\n",
    "    elif n2 != None:\n",
    "        num_tiles_dict_comb_tr[slide_name] = n2\n",
    "    elif n3 != None:\n",
    "        num_tiles_dict_comb_tr[slide_name] = n3\n",
    "        \n",
    "# comb val dict\n",
    "for slide_name in comb_val_set:\n",
    "    n1 = num_tiles_dict_tr.get(slide_name)\n",
    "    n2 = num_tiles_dict_ts.get(slide_name)\n",
    "    n3 = num_tiles_dict_ext.get(slide_name)\n",
    "    if  n1 != None:\n",
    "        num_tiles_dict_comb_val[slide_name] = n1\n",
    "    elif n2 != None:\n",
    "        num_tiles_dict_comb_val[slide_name] = n2\n",
    "    elif n3 != None:\n",
    "        num_tiles_dict_comb_val[slide_name] = n3\n",
    "        \n",
    "# comb test dict\n",
    "for slide_name in comb_ts_set:\n",
    "    n1 = num_tiles_dict_tr.get(slide_name)\n",
    "    n2 = num_tiles_dict_ts.get(slide_name)\n",
    "    n3 = num_tiles_dict_ext.get(slide_name)\n",
    "    if  n1 != None:\n",
    "        num_tiles_dict_comb_ts[slide_name] = n1\n",
    "    elif n2 != None:\n",
    "        num_tiles_dict_comb_ts[slide_name] = n2\n",
    "    elif n3 != None:\n",
    "        num_tiles_dict_comb_ts[slide_name] = n3"
   ]
  },
  {
   "cell_type": "markdown",
   "id": "43821139-8308-4d89-9bb0-53c64b9af1fe",
   "metadata": {},
   "source": [
    "Save tiles"
   ]
  },
  {
   "cell_type": "code",
   "execution_count": 7,
   "id": "a5cdff7b-e1b5-4c4f-8d1e-59147bde624e",
   "metadata": {},
   "outputs": [],
   "source": [
    "my_json = json.dumps(num_tiles_dict_comb_tr)\n",
    "# open file for writing, \"w\" \n",
    "f = open(\"./data/num_tiles_dict_comb_tr.json\",\"w\")\n",
    "# write json object to file\n",
    "f.write(my_json)\n",
    "# close file\n",
    "f.close()\n",
    "\n",
    "my_json = json.dumps(num_tiles_dict_comb_val)\n",
    "# open file for writing, \"w\" \n",
    "f = open(\"./data/num_tiles_dict_comb_val.json\",\"w\")\n",
    "# write json object to file\n",
    "f.write(my_json)\n",
    "# close file\n",
    "f.close()\n",
    "\n",
    "my_json = json.dumps(num_tiles_dict_comb_ts)\n",
    "# open file for writing, \"w\" \n",
    "f = open(\"./data/num_tiles_dict_comb_ts.json\",\"w\")\n",
    "# write json object to file\n",
    "f.write(my_json)\n",
    "# close file\n",
    "f.close()"
   ]
  }
 ],
 "metadata": {
  "kernelspec": {
   "display_name": "Python 3",
   "language": "python",
   "name": "python3"
  },
  "language_info": {
   "codemirror_mode": {
    "name": "ipython",
    "version": 3
   },
   "file_extension": ".py",
   "mimetype": "text/x-python",
   "name": "python",
   "nbconvert_exporter": "python",
   "pygments_lexer": "ipython3",
   "version": "3.7.11"
  }
 },
 "nbformat": 4,
 "nbformat_minor": 5
}
