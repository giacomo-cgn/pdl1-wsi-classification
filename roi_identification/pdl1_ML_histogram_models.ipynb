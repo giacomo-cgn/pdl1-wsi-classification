{
  "cells": [
    {
      "cell_type": "code",
      "execution_count": null,
      "metadata": {
        "id": "-QYHozvkXldw"
      },
      "outputs": [],
      "source": [
        "import numpy as np\n",
        "import matplotlib.pyplot as plt\n",
        "\n",
        "from sklearn.model_selection import cross_val_score, KFold, cross_val_score, StratifiedKFold\n",
        "from sklearn import svm\n",
        "from sklearn.tree import DecisionTreeClassifier\n",
        "from sklearn.ensemble import RandomForestClassifier, VotingClassifier\n",
        "from sklearn.model_selection import GridSearchCV, cross_validate\n",
        "from sklearn.metrics import accuracy_score, f1_score, confusion_matrix, make_scorer"
      ]
    },
    {
      "cell_type": "code",
      "execution_count": null,
      "metadata": {
        "id": "xwi7tjQrXqNY"
      },
      "outputs": [],
      "source": [
        "data_dir = '/content/drive/MyDrive/data/PD-L1 pixel distance'\n",
        "#hist_dir = '/content/drive/MyDrive/data/hist/denormalized'\n",
        "hist_dir = '/content/drive/MyDrive/data/hist/denorm_manual_artifact_red'"
      ]
    },
    {
      "cell_type": "code",
      "execution_count": null,
      "metadata": {
        "id": "HOBu_AD9XtSK"
      },
      "outputs": [],
      "source": [
        "results_dict = {'19-COMP-004': 1, '19-COMP-011': 1, '19-COMP-012': 1, '19-COMP-014': 1,\n",
        "                '19-COMP-016': 1, '19-COMP-019': 1, '19-COMP-026': 1, '19-COMP-029': 1,\n",
        "                '19-COMP-030': 1, '19-COMP-032': 1, '19-COMP-034': 1, '19-COMP-037': 1,\n",
        "                '20-COMP-050': 1, '20-COMP-052': 1, '20-COMP-054': 1, '20-COMP-071': 1,\n",
        "                '20-COMP-088': 1, '20-COMP-102': 1, '20-COMP-103': 1, '20-COMP-113': 1,\n",
        "                '19-COMP-017': 0, '19-COMP-020': 0, '19-COMP-021': 0, '19-COMP-036': 0,\n",
        "                '19-COMP-039': 0, '19-COMP-044': 0, '19-COMP-047': 0, '20-COMP-055': 0,\n",
        "                '20-COMP-056': 0, '20-COMP-059': 0, '20-COMP-063': 0, '20-COMP-065': 0,\n",
        "                '20-COMP-066': 0, '20-COMP-068': 0, '20-COMP-070': 0, '20-COMP-073': 0,\n",
        "                '20-COMP-075': 0, '20-COMP-076': 0, '20-COMP-077': 0, '20-COMP-078': 0}"
      ]
    },
    {
      "cell_type": "code",
      "execution_count": null,
      "metadata": {
        "id": "-XcJooiUXuvF"
      },
      "outputs": [],
      "source": [
        "tr_set = ['19-COMP-004', '19-COMP-011', '19-COMP-012', '19-COMP-014', '19-COMP-016',\n",
        "          '19-COMP-019', '19-COMP-029', '19-COMP-030', '19-COMP-032', '19-COMP-034',\n",
        "          '20-COMP-050', '20-COMP-052', '20-COMP-054', '20-COMP-071', '20-COMP-088',\n",
        "          '20-COMP-103', '20-COMP-113', '19-COMP-017', '19-COMP-020', '19-COMP-021',\n",
        "          '19-COMP-044', '19-COMP-047', '20-COMP-055', '20-COMP-056', '20-COMP-059',\n",
        "          '20-COMP-063', '20-COMP-066', '20-COMP-068', '20-COMP-070', '20-COMP-073',\n",
        "          '20-COMP-075', '20-COMP-076', '20-COMP-078']\n",
        "\n",
        "ts_set = ['20-COMP-077', '20-COMP-065', '19-COMP-039', '20-COMP-102', '19-COMP-037', '19-COMP-026']"
      ]
    },
    {
      "cell_type": "code",
      "execution_count": null,
      "metadata": {
        "id": "BQC7cl4VKTbI"
      },
      "outputs": [],
      "source": [
        "def add_padding(hist):\n",
        "  return np.pad(hist, (0, 100-len(hist)), 'constant')"
      ]
    },
    {
      "cell_type": "code",
      "execution_count": null,
      "metadata": {
        "id": "r1oPX5x0X7bG"
      },
      "outputs": [],
      "source": [
        "def get_log_hist(hist):\n",
        "    log_hist = np.log10(hist)\n",
        "    #min_bin = np.min(log_hist)\n",
        "    \n",
        "    #log_hist = log_hist - min_bin\n",
        "    #min_bin = np.min(hist)\n",
        "    #if min_bin > 0:\n",
        "     # min_bin = 0\n",
        "    #log_hist = np.log10(hist-min_bin+1)\n",
        "    return log_hist"
      ]
    },
    {
      "cell_type": "markdown",
      "metadata": {
        "id": "GDukY5DCPSkE"
      },
      "source": [
        "Import histograms with log scale and padding to 100 bins and their targets"
      ]
    },
    {
      "cell_type": "code",
      "execution_count": null,
      "metadata": {
        "colab": {
          "base_uri": "https://localhost:8080/"
        },
        "id": "cvLh1cbNXzq6",
        "outputId": "5f7ce9a8-15f8-4188-dc97-b918861245e4"
      },
      "outputs": [
        {
          "name": "stdout",
          "output_type": "stream",
          "text": [
            "19-COMP-004\n",
            "19-COMP-011\n",
            "19-COMP-012\n",
            "19-COMP-014\n",
            "19-COMP-016\n",
            "19-COMP-019\n",
            "19-COMP-029\n",
            "19-COMP-030\n",
            "19-COMP-032\n",
            "19-COMP-034\n",
            "20-COMP-050\n",
            "20-COMP-052\n",
            "20-COMP-054\n",
            "20-COMP-071\n",
            "20-COMP-088\n",
            "20-COMP-103\n",
            "20-COMP-113\n",
            "19-COMP-017\n",
            "19-COMP-020\n",
            "19-COMP-021\n",
            "19-COMP-044\n",
            "19-COMP-047\n",
            "20-COMP-055\n",
            "20-COMP-056\n",
            "20-COMP-059\n",
            "20-COMP-063\n",
            "20-COMP-066\n",
            "20-COMP-068\n",
            "20-COMP-070\n",
            "20-COMP-073\n",
            "20-COMP-075\n",
            "20-COMP-076\n",
            "20-COMP-078\n",
            "20-COMP-077\n",
            "20-COMP-065\n",
            "19-COMP-039\n",
            "20-COMP-102\n",
            "19-COMP-037\n",
            "19-COMP-026\n"
          ]
        }
      ],
      "source": [
        "num_bins = 100\n",
        "\n",
        "#Training set\n",
        "padded_log_histograms_tr = []\n",
        "log_histograms_tr = []\n",
        "histograms_tr = []\n",
        "for i, slide_name in enumerate(tr_set):\n",
        "  histograms_tr.append((np.load(hist_dir+'/'+slide_name+'_bins_denorm_100r0.95.npy')))\n",
        "  #padded_log_histograms_tr.append(add_padding(log_histograms_tr[i]))\n",
        "  padded_log_histograms_tr.append(add_padding(get_log_hist(np.load(hist_dir+'/'+slide_name+'_bins_denorm_100r0.95.npy'))))\n",
        "  print(slide_name)\n",
        "\n",
        "targets_tr = np.zeros(np.shape(tr_set), dtype='int')\n",
        "for i, slide_name in enumerate(tr_set):\n",
        "  targets_tr[i] = results_dict[slide_name]\n",
        "\n",
        "# Test set\n",
        "padded_log_histograms_ts = []\n",
        "log_histograms_ts = []\n",
        "histograms_ts = []\n",
        "\n",
        "for i, slide_name in enumerate(ts_set):\n",
        "  histograms_ts.append((np.load(hist_dir+'/'+slide_name+'_bins_denorm_100r0.95.npy')))\n",
        "  #padded_log_histograms_ts.append(add_padding(log_histograms_ts[i]))\n",
        "  padded_log_histograms_ts.append(add_padding(get_log_hist(np.load(hist_dir+'/'+slide_name+'_bins_denorm_100r0.95.npy'))))\n",
        "  print(slide_name)\n",
        "\n",
        "targets_ts = np.zeros(np.shape(ts_set), dtype='int')\n",
        "for i, slide_name in enumerate(ts_set):\n",
        "  targets_ts[i] = results_dict[slide_name]"
      ]
    },
    {
      "cell_type": "markdown",
      "metadata": {
        "id": "0eSsmZy8PYy_"
      },
      "source": [
        "Show slides log + padded histograms"
      ]
    },
    {
      "cell_type": "code",
      "execution_count": null,
      "metadata": {
        "colab": {
          "base_uri": "https://localhost:8080/",
          "height": 1000
        },
        "id": "kgo1BLypP1yZ",
        "outputId": "879922c0-76b6-4d6b-945b-43a593aad4cb"
      },
      "outputs": [
        {
          "data": {
            "image/png": "[encoded data removed]",
            "text/plain": [
              "<Figure size 432x288 with 1 Axes>"
            ]
          },
          "metadata": {
            "needs_background": "light"
          },
          "output_type": "display_data"
        },
        {
          "data": {
            "image/png": "[encoded data removed]",
            "text/plain": [
              "<Figure size 432x288 with 1 Axes>"
            ]
          },
          "metadata": {
            "needs_background": "light"
          },
          "output_type": "display_data"
        },
        {
          "data": {
            "image/png": "[encoded data removed]",
            "text/plain": [
              "<Figure size 432x288 with 1 Axes>"
            ]
          },
          "metadata": {
            "needs_background": "light"
          },
          "output_type": "display_data"
        },
        {
          "data": {
            "image/png": "[encoded data removed]",
            "text/plain": [
              "<Figure size 432x288 with 1 Axes>"
            ]
          },
          "metadata": {
            "needs_background": "light"
          },
          "output_type": "display_data"
        },
        {
          "data": {
            "image/png": "[encoded data removed]",
            "text/plain": [
              "<Figure size 432x288 with 1 Axes>"
            ]
          },
          "metadata": {
            "needs_background": "light"
          },
          "output_type": "display_data"
        },
        {
          "data": {
            "image/png": "[encoded data removed]",
            "text/plain": [
              "<Figure size 432x288 with 1 Axes>"
            ]
          },
          "metadata": {
            "needs_background": "light"
          },
          "output_type": "display_data"
        },
        {
          "data": {
            "image/png": "[encoded data removed]",
            "text/plain": [
              "<Figure size 432x288 with 1 Axes>"
            ]
          },
          "metadata": {
            "needs_background": "light"
          },
          "output_type": "display_data"
        },
        {
          "data": {
            "image/png": "[encoded data removed]",
            "text/plain": [
              "<Figure size 432x288 with 1 Axes>"
            ]
          },
          "metadata": {
            "needs_background": "light"
          },
          "output_type": "display_data"
        },
        {
          "data": {
            "image/png": "[encoded data removed]",
            "text/plain": [
              "<Figure size 432x288 with 1 Axes>"
            ]
          },
          "metadata": {
            "needs_background": "light"
          },
          "output_type": "display_data"
        },
        {
          "data": {
            "image/png": "[encoded data removed]",
            "text/plain": [
              "<Figure size 432x288 with 1 Axes>"
            ]
          },
          "metadata": {
            "needs_background": "light"
          },
          "output_type": "display_data"
        },
        {
          "data": {
            "image/png": "[encoded data removed]",
            "text/plain": [
              "<Figure size 432x288 with 1 Axes>"
            ]
          },
          "metadata": {
            "needs_background": "light"
          },
          "output_type": "display_data"
        },
        {
          "data": {
            "image/png": "[encoded data removed]",
            "text/plain": [
              "<Figure size 432x288 with 1 Axes>"
            ]
          },
          "metadata": {
            "needs_background": "light"
          },
          "output_type": "display_data"
        },
        {
          "data": {
            "image/png": "[encoded data removed]",
            "text/plain": [
              "<Figure size 432x288 with 1 Axes>"
            ]
          },
          "metadata": {
            "needs_background": "light"
          },
          "output_type": "display_data"
        },
        {
          "data": {
            "image/png": "[encoded data removed]",
            "text/plain": [
              "<Figure size 432x288 with 1 Axes>"
            ]
          },
          "metadata": {
            "needs_background": "light"
          },
          "output_type": "display_data"
        },
        {
          "data": {
            "image/png": "[encoded data removed]",
            "text/plain": [
              "<Figure size 432x288 with 1 Axes>"
            ]
          },
          "metadata": {
            "needs_background": "light"
          },
          "output_type": "display_data"
        },
        {
          "data": {
            "image/png": "[encoded data removed]",
            "text/plain": [
              "<Figure size 432x288 with 1 Axes>"
            ]
          },
          "metadata": {
            "needs_background": "light"
          },
          "output_type": "display_data"
        },
        {
          "data": {
            "image/png": "[encoded data removed]",
            "text/plain": [
              "<Figure size 432x288 with 1 Axes>"
            ]
          },
          "metadata": {
            "needs_background": "light"
          },
          "output_type": "display_data"
        },
        {
          "data": {
            "image/png": "[encoded data removed]",
            "text/plain": [
              "<Figure size 432x288 with 1 Axes>"
            ]
          },
          "metadata": {
            "needs_background": "light"
          },
          "output_type": "display_data"
        },
        {
          "data": {
            "image/png": "[encoded data removed]",
            "text/plain": [
              "<Figure size 432x288 with 1 Axes>"
            ]
          },
          "metadata": {
            "needs_background": "light"
          },
          "output_type": "display_data"
        },
        {
          "data": {
            "image/png": "[encoded data removed]",
            "text/plain": [
              "<Figure size 432x288 with 1 Axes>"
            ]
          },
          "metadata": {
            "needs_background": "light"
          },
          "output_type": "display_data"
        },
        {
          "data": {
            "image/png": "[encoded data removed]",
            "text/plain": [
              "<Figure size 432x288 with 1 Axes>"
            ]
          },
          "metadata": {
            "needs_background": "light"
          },
          "output_type": "display_data"
        },
        {
          "data": {
            "image/png": "[encoded data removed]",
            "text/plain": [
              "<Figure size 432x288 with 1 Axes>"
            ]
          },
          "metadata": {
            "needs_background": "light"
          },
          "output_type": "display_data"
        },
        {
          "data": {
            "image/png": "[encoded data removed]",
            "text/plain": [
              "<Figure size 432x288 with 1 Axes>"
            ]
          },
          "metadata": {
            "needs_background": "light"
          },
          "output_type": "display_data"
        },
        {
          "data": {
            "image/png": "[encoded data removed]",
            "text/plain": [
              "<Figure size 432x288 with 1 Axes>"
            ]
          },
          "metadata": {
            "needs_background": "light"
          },
          "output_type": "display_data"
        },
        {
          "data": {
            "image/png": "[encoded data removed]",
            "text/plain": [
              "<Figure size 432x288 with 1 Axes>"
            ]
          },
          "metadata": {
            "needs_background": "light"
          },
          "output_type": "display_data"
        },
        {
          "data": {
            "image/png": "[encoded data removed]",
            "text/plain": [
              "<Figure size 432x288 with 1 Axes>"
            ]
          },
          "metadata": {
            "needs_background": "light"
          },
          "output_type": "display_data"
        },
        {
          "data": {
            "image/png": "[encoded data removed]",
            "text/plain": [
              "<Figure size 432x288 with 1 Axes>"
            ]
          },
          "metadata": {
            "needs_background": "light"
          },
          "output_type": "display_data"
        },
        {
          "data": {
            "image/png": "[encoded data removed]",
            "text/plain": [
              "<Figure size 432x288 with 1 Axes>"
            ]
          },
          "metadata": {
            "needs_background": "light"
          },
          "output_type": "display_data"
        },
        {
          "data": {
            "image/png": "[encoded data removed]",
            "text/plain": [
              "<Figure size 432x288 with 1 Axes>"
            ]
          },
          "metadata": {
            "needs_background": "light"
          },
          "output_type": "display_data"
        },
        {
          "data": {
            "image/png": "[encoded data removed]",
            "text/plain": [
              "<Figure size 432x288 with 1 Axes>"
            ]
          },
          "metadata": {
            "needs_background": "light"
          },
          "output_type": "display_data"
        },
        {
          "data": {
            "image/png": "[encoded data removed]",
            "text/plain": [
              "<Figure size 432x288 with 1 Axes>"
            ]
          },
          "metadata": {
            "needs_background": "light"
          },
          "output_type": "display_data"
        },
        {
          "data": {
            "image/png": "[encoded data removed]",
            "text/plain": [
              "<Figure size 432x288 with 1 Axes>"
            ]
          },
          "metadata": {
            "needs_background": "light"
          },
          "output_type": "display_data"
        },
        {
          "data": {
            "image/png": "[encoded data removed]",
            "text/plain": [
              "<Figure size 432x288 with 1 Axes>"
            ]
          },
          "metadata": {
            "needs_background": "light"
          },
          "output_type": "display_data"
        }
      ],
      "source": [
        "for i,slide_name in enumerate(tr_set):    \n",
        "    plt.bar(x=range(len(padded_log_histograms_tr[i])), height=padded_log_histograms_tr[i], color='brown')\n",
        "    plt.show()"
      ]
    },
    {
      "cell_type": "markdown",
      "metadata": {
        "id": "Bk_DV-nngQQ5"
      },
      "source": [
        "SVM"
      ]
    },
    {
      "cell_type": "code",
      "execution_count": null,
      "metadata": {
        "id": "-vEvhIYEQakj"
      },
      "outputs": [],
      "source": [
        "def build_SVM(X, y, cv=6, print_res=True):\n",
        "    params = [\n",
        "    {\"kernel\": [\"rbf\", \"linear\", \"sigmoid\", \"poly\"], \"gamma\": [\"scale\", \"auto\"], \"C\": [0.1, 1, 10, 100, 300, 1000]},\n",
        "    {\"kernel\": [\"poly\"], \"degree\": [2,3,4], \"gamma\": [\"scale\", \"auto\"], \"C\": [0.1, 1, 10, 100, 300, 1000]},\n",
        "\n",
        "    ] \n",
        "    clf = GridSearchCV(svm.SVC(), params, refit = True, cv=cv)\n",
        "    clf.fit(X, y)\n",
        "    if print_res:\n",
        "      print(\"SVM - Best parameters set found:\")\n",
        "      print(clf.best_params_)\n",
        "      print(\"SVM - Best score found:\")\n",
        "      print(clf.best_score_)\n",
        "\n",
        "    return(clf.best_score_, clf.best_estimator_)"
      ]
    },
    {
      "cell_type": "markdown",
      "metadata": {
        "id": "AHnr2GjtgR2B"
      },
      "source": [
        "Random forest"
      ]
    },
    {
      "cell_type": "code",
      "execution_count": null,
      "metadata": {
        "id": "vGiHwVqR5ZIo"
      },
      "outputs": [],
      "source": [
        "def build_random_forest(X, y, cv=6, print_res=True):\n",
        "    params = [{\n",
        "    'bootstrap': [True, False],\n",
        "    'max_depth': [100, None],\n",
        "    'max_features': ['auto', 'log2'],\n",
        "    'min_samples_leaf': [1, 2],\n",
        "    #'min_samples_split': [2, 4, 8],\n",
        "    'n_estimators': [100, 500, 1000]\n",
        "    }] \n",
        "    clf = GridSearchCV(RandomForestClassifier(), params, refit = True, cv=cv)\n",
        "    clf.fit(X, y)\n",
        "    if print_res:\n",
        "      print(\"RF - Best parameters set found:\")\n",
        "      print(clf.best_params_)\n",
        "      print(\"RF - Best score found:\")\n",
        "      print(clf.best_score_)\n",
        "    \n",
        "    return(clf.best_score_, clf.best_estimator_)"
      ]
    },
    {
      "cell_type": "markdown",
      "metadata": {
        "id": "lGu8HuNegTiT"
      },
      "source": [
        "Decision Tree"
      ]
    },
    {
      "cell_type": "code",
      "execution_count": null,
      "metadata": {
        "id": "J-P1NIbL5Zqs"
      },
      "outputs": [],
      "source": [
        "def build_decision_tree(X, y, cv=6, print_res=True):\n",
        "  dt = DecisionTreeClassifier()\n",
        "  scores = cross_val_score(dt, X, y, cv=cv)\n",
        "  score = sum(scores)/len(scores)\n",
        "  if print_res:\n",
        "    print('DT- Score:',score)\n",
        "  #retrain\n",
        "  dt.fit(X, y)\n",
        "  return(score, dt)"
      ]
    },
    {
      "cell_type": "code",
      "execution_count": null,
      "metadata": {
        "id": "ZsKry9VDSl7q"
      },
      "outputs": [],
      "source": [
        "scores_table_tr = np.zeros((3, 3))"
      ]
    },
    {
      "cell_type": "markdown",
      "metadata": {
        "id": "PQZ1T1GRtBeg"
      },
      "source": [
        "# Test"
      ]
    },
    {
      "cell_type": "code",
      "execution_count": null,
      "metadata": {
        "id": "3GGe-rKxT11T"
      },
      "outputs": [],
      "source": [
        "def test_model(model, dataset):\n",
        "  y_pred = model.predict(dataset)\n",
        "  score = accuracy_score(targets_ts, y_pred)\n",
        "  errors = np.size(ts_set) - accuracy_score(targets_ts, y_pred, normalize=False)\n",
        "  return (score, y_pred, errors)"
      ]
    },
    {
      "cell_type": "markdown",
      "metadata": {
        "id": "j5IqU8Vh5Ul7"
      },
      "source": [
        "# Nested K-fold CV"
      ]
    },
    {
      "cell_type": "code",
      "execution_count": null,
      "metadata": {
        "id": "CiNVDJtV5Ztb"
      },
      "outputs": [],
      "source": [
        "total_pad_log_internal = np.concatenate((padded_log_histograms_tr, padded_log_histograms_ts), axis=0)\n",
        "\n",
        "total_y_internal = np.concatenate((targets_tr, targets_ts))"
      ]
    },
    {
      "cell_type": "code",
      "execution_count": null,
      "metadata": {
        "id": "v6peH1SCscia"
      },
      "outputs": [],
      "source": [
        "X = total_pad_log_internal\n",
        "\n",
        "y = total_y_internal\n",
        "num_trials = 1\n",
        "n_splits = 6\n",
        "\n",
        "cv_svms = []\n",
        "cv_rfs = []\n",
        "cv_dts = []\n",
        "\n",
        "acc_scores_svm = []\n",
        "acc_scores_rf = []\n",
        "acc_scores_dt = []\n",
        "\n",
        "f1_scores_svm = []\n",
        "f1_scores_rf = []\n",
        "f1_scores_dt = []\n",
        "\n",
        "f1_weight_scores_svm = []\n",
        "f1_weight_scores_rf = []\n",
        "f1_weight_scores_dt = []\n",
        "\n",
        "outer_cv = KFold(n_splits=n_splits, shuffle=True)\n",
        "# enumerate splits\n",
        "for train_index, test_index in outer_cv.split(X):\n",
        "  X_train, X_test = X[train_index, :], X[test_index, :]\n",
        "  y_train, y_test = y[train_index], y[test_index]\n",
        "  inner_cv = KFold(n_splits=n_splits-1, shuffle=True)\n",
        "\t\n",
        "  #SVM\n",
        "  _, nested_svm = build_SVM(X_train, y_train, cv=inner_cv, print_res=False)\n",
        "  cv_svms.append(nested_svm)\n",
        "  pred = nested_svm.predict(X_test)\n",
        "  acc_scores_svm.append(accuracy_score(y_test, pred))\n",
        "  f1_scores_svm.append(f1_score(y_test, pred))\n",
        "  f1_weight_scores_svm.append(f1_score(y_test, pred, average=\"weighted\"))\n",
        "\n",
        "\n",
        "\n",
        "  #RF\n",
        "  _, nested_rf = build_random_forest(X_train, y_train, cv=inner_cv, print_res=False)\n",
        "  cv_rfs.append(nested_rf)\n",
        "  pred = nested_rf.predict(X_test)\n",
        "  acc_scores_rf.append(accuracy_score(y_test, pred))\n",
        "  f1_scores_rf.append(f1_score(y_test, pred))\n",
        "  f1_weight_scores_rf.append(f1_score(y_test, pred, average=\"weighted\"))\n",
        "\n",
        "\n",
        "  #DT\n",
        "  _, nested_dt = build_decision_tree(X_train, y_train, cv=inner_cv, print_res=False)\n",
        "  cv_dts.append(nested_dt)\n",
        "  pred = nested_dt.predict(X_test)\n",
        "  acc_scores_dt.append(accuracy_score(y_test, pred))\n",
        "  f1_scores_dt.append(f1_score(y_test, pred))\n",
        "  f1_weight_scores_dt.append(f1_score(y_test, pred, average=\"weighted\"))\n"
      ]
    },
    {
      "cell_type": "code",
      "execution_count": null,
      "metadata": {
        "colab": {
          "base_uri": "https://localhost:8080/"
        },
        "id": "caUDGYCq9-5b",
        "outputId": "9e3d59bd-4b04-46c0-e577-010384408403"
      },
      "outputs": [
        {
          "name": "stdout",
          "output_type": "stream",
          "text": [
            "acc_scores_svm: [0.8571428571428571, 0.5714285714285714, 0.7142857142857143, 0.5, 1.0, 0.6666666666666666]\n",
            "avg_acc_svm: 0.7182539682539683\n",
            "f1_scores_svm: [0.8, 0.5714285714285715, 0.6666666666666666, 0.4, 1.0, 0.8]\n",
            "avg_f1_svm: 0.7063492063492064\n",
            "f1_weight_scores_svm: [0.8634920634920634, 0.5714285714285715, 0.7023809523809523, 0.5142857142857143, 1.0, 0.5333333333333333]\n",
            "avg_f1_weight_svm: 0.6974867724867725\n",
            "\n",
            "\n",
            "acc_scores_rf: [0.5714285714285714, 1.0, 0.5714285714285714, 0.6666666666666666, 1.0, 0.8333333333333334]\n",
            "avg_acc_rf: 0.7738095238095237\n",
            "f1_scores_rf: [0.5714285714285715, 1.0, 0.5714285714285715, 0.5, 1.0, 0.8571428571428571]\n",
            "avg_f1_rf: 0.75\n",
            "f1_weight_scores_rf: [0.5714285714285715, 1.0, 0.5714285714285714, 0.6666666666666666, 1.0, 0.8380952380952381]\n",
            "avg_f1_weight_rf: 0.7746031746031746\n",
            "\n",
            "\n",
            "acc_scores_dt: [0.7142857142857143, 1.0, 0.5714285714285714, 0.5, 0.8333333333333334, 0.8333333333333334]\n",
            "avg_acc_dt: 0.7420634920634921\n",
            "f1_scores_dt: [0.6666666666666666, 1.0, 0.5714285714285715, 0.4, 0.8571428571428571, 0.8571428571428571]\n",
            "avg_f1_dt: 0.7253968253968254\n",
            "f1_weight_scores_dt: [0.7261904761904762, 1.0, 0.5714285714285714, 0.5142857142857143, 0.8285714285714286, 0.8380952380952381]\n",
            "avg_f1_weight_dt: 0.7464285714285714\n",
            "\n",
            "\n"
          ]
        }
      ],
      "source": [
        "avg_acc_svm = np.average(acc_scores_svm)\n",
        "print('acc_scores_svm:', acc_scores_svm)\n",
        "print('avg_acc_svm:', avg_acc_svm)\n",
        "avg_f1_svm = np.average(f1_scores_svm)\n",
        "print('f1_scores_svm:', f1_scores_svm)\n",
        "print('avg_f1_svm:', avg_f1_svm)\n",
        "avg_f1_weight_svm = np.average(f1_weight_scores_svm)\n",
        "print('f1_weight_scores_svm:', f1_weight_scores_svm)\n",
        "print('avg_f1_weight_svm:', avg_f1_weight_svm)\n",
        "print('\\n')\n",
        "\n",
        "avg_acc_rf = np.average(acc_scores_rf)\n",
        "print('acc_scores_rf:', acc_scores_rf)\n",
        "print('avg_acc_rf:', avg_acc_rf)\n",
        "avg_f1_rf = np.average(f1_scores_rf)\n",
        "print('f1_scores_rf:', f1_scores_rf)\n",
        "print('avg_f1_rf:', avg_f1_rf)\n",
        "avg_f1_weight_rf = np.average(f1_weight_scores_rf)\n",
        "print('f1_weight_scores_rf:', f1_weight_scores_rf)\n",
        "print('avg_f1_weight_rf:', avg_f1_weight_rf)\n",
        "print('\\n')\n",
        "\n",
        "avg_acc_dt = np.average(acc_scores_dt)\n",
        "print('acc_scores_dt:', acc_scores_dt)\n",
        "print('avg_acc_dt:', avg_acc_dt)\n",
        "avg_f1_dt = np.average(f1_scores_dt)\n",
        "print('f1_scores_dt:', f1_scores_dt)\n",
        "print('avg_f1_dt:', avg_f1_dt)\n",
        "avg_f1_weight_dt = np.average(f1_weight_scores_dt)\n",
        "print('f1_weight_scores_dt:', f1_weight_scores_dt)\n",
        "print('avg_f1_weight_dt:', avg_f1_weight_dt)\n",
        "print('\\n')"
      ]
    },
    {
      "cell_type": "markdown",
      "metadata": {
        "id": "JeojQm6dDgqP"
      },
      "source": [
        "# External dataset"
      ]
    },
    {
      "cell_type": "code",
      "execution_count": null,
      "metadata": {
        "id": "4NyziJYVDjf1"
      },
      "outputs": [],
      "source": [
        "#hist_dir_ext = '/content/drive/MyDrive/data/hist/denormalized_ext'\n",
        "hist_dir_ext = '/content/drive/MyDrive/data/hist/denormalized_manual_ext'"
      ]
    },
    {
      "cell_type": "code",
      "execution_count": null,
      "metadata": {
        "id": "-2wOGXmKDyWY"
      },
      "outputs": [],
      "source": [
        "results_dict_ext = {'M-180-20-A1 SP142': 0, 'M-3784-20-A1 SP142': 1, 'M-3905-20 SP142 (1)': 1, 'M-534-20-1 SP142': 1, 'M-834-21 SP142': 1,\n",
        " 'M-1163-20 SP142': 0, 'M-1242-20 SP142': 0, 'M-180-20 (3) B1': 0, 'M-182-20-A1 SP142': 0, 'M-313-20 SP142': 0, 'M-3454-20-A1 SP142': 0,\n",
        " 'M-3587-20 SP142': 0, 'M-360-20 SP142': 0, 'M-3760-20-A1 SP142': 0, 'M-3914-20 SP142 (2)': 0, 'M-4075-20 SP142 (2)': 0,\n",
        " 'M-4092-20 SP142 (2)': 0, 'M-5248-20 SP142 (1)': 0, 'M-527-20 MA1-SP142': 0, 'M-527-20 MA2-SP142': 0, 'M-5428-20 SP142': 0,\n",
        " 'M-5696-20 (3)': 0, 'M-5697-20 SP142': 0, 'M-6014-20 A1-SP142': 0, 'M-6052-20 A1-SP142': 0, 'M-67-21-1-SP142 (4)': 0}"
      ]
    },
    {
      "cell_type": "code",
      "execution_count": null,
      "metadata": {
        "id": "LBfpMbf7D32C"
      },
      "outputs": [],
      "source": [
        "ext_set = ['M-180-20-A1 SP142', 'M-3784-20-A1 SP142', 'M-3905-20 SP142 (1)', 'M-534-20-1 SP142', 'M-834-21 SP142',\n",
        "              'M-1163-20 SP142', 'M-1242-20 SP142', 'M-180-20 (3) B1', 'M-182-20-A1 SP142', 'M-313-20 SP142', 'M-3454-20-A1 SP142',\n",
        "              'M-3587-20 SP142', 'M-360-20 SP142', 'M-3760-20-A1 SP142', 'M-3914-20 SP142 (2)', 'M-4075-20 SP142 (2)',\n",
        "              'M-4092-20 SP142 (2)', 'M-5248-20 SP142 (1)', 'M-527-20 MA1-SP142', 'M-527-20 MA2-SP142', 'M-5428-20 SP142',\n",
        "              'M-5696-20 (3)', 'M-5697-20 SP142', 'M-6052-20 A1-SP142', 'M-67-21-1-SP142 (4)']"
      ]
    },
    {
      "cell_type": "code",
      "execution_count": null,
      "metadata": {
        "colab": {
          "base_uri": "https://localhost:8080/"
        },
        "id": "3dmrt_E1JSvC",
        "outputId": "c2bccc24-d5a3-4d09-b2ac-0e66e33f1280"
      },
      "outputs": [
        {
          "metadata": {
            "tags": null
          },
          "name": "stdout",
          "output_type": "stream",
          "text": [
            "M-180-20-A1 SP142\n",
            "M-3784-20-A1 SP142\n",
            "M-3905-20 SP142 (1)\n",
            "M-534-20-1 SP142\n",
            "M-834-21 SP142\n",
            "M-1163-20 SP142\n",
            "M-1242-20 SP142\n",
            "M-180-20 (3) B1\n",
            "M-182-20-A1 SP142\n",
            "M-313-20 SP142\n",
            "M-3454-20-A1 SP142\n",
            "M-3587-20 SP142\n",
            "M-360-20 SP142\n",
            "M-3760-20-A1 SP142\n",
            "M-3914-20 SP142 (2)\n",
            "M-4075-20 SP142 (2)\n",
            "M-4092-20 SP142 (2)\n",
            "M-5248-20 SP142 (1)\n",
            "M-527-20 MA1-SP142\n",
            "M-527-20 MA2-SP142\n",
            "M-5428-20 SP142\n",
            "M-5696-20 (3)\n",
            "M-5697-20 SP142\n",
            "M-6052-20 A1-SP142\n",
            "M-67-21-1-SP142 (4)\n"
          ]
        }
      ],
      "source": [
        "num_bins = 100\n",
        "\n",
        "# External test set\n",
        "padded_log_histograms_ext = []\n",
        "log_histograms_ext = []\n",
        "histograms_ext = []\n",
        "\n",
        "for i, slide_name in enumerate(ext_set):\n",
        "  histograms_ext.append((np.load(hist_dir_ext+'/'+slide_name+'_bins_denorm_100r0.95.npy')))\n",
        "  padded_log_histograms_ext.append(add_padding(get_log_hist(np.load(hist_dir_ext+'/'+slide_name+'_bins_denorm_100r0.95.npy'))))\n",
        "  print(slide_name)\n",
        "\n",
        "targets_ext = np.zeros(np.shape(ext_set), dtype='int')\n",
        "for i, slide_name in enumerate(ext_set):\n",
        "  targets_ext[i] = results_dict_ext[slide_name]"
      ]
    },
    {
      "cell_type": "markdown",
      "metadata": {
        "id": "gdpac5Tvx_wS"
      },
      "source": [
        "Majority vote between nested cv models, otherwise weighted vote by accuracy"
      ]
    },
    {
      "cell_type": "code",
      "execution_count": null,
      "metadata": {
        "id": "Xo4uAWlyx-uV"
      },
      "outputs": [],
      "source": [
        "def ensemble_majority_weighted(X, y, models_arr, acc_arr):\n",
        "  pred_table = np.zeros((len(models_arr), len(y)))\n",
        "  for i, model in enumerate(models_arr):\n",
        "    y_pred = model.predict(X)\n",
        "    pred_table[i, :] = y_pred\n",
        "\n",
        "  final_preds = np.zeros(len(y))\n",
        "\n",
        "  for j in range(len(y)):\n",
        "    avg = (np.average(pred_table[:, j]))\n",
        "    if avg == 0.5:\n",
        "      avg = np.average(pred_table[:, j], weights=acc_arr)\n",
        "    final_preds[j] = (avg > 0.5).astype('int')\n",
        "  \n",
        "  acc = accuracy_score(y, final_preds)\n",
        "  f1 = f1_score(y, final_preds)\n",
        "  f1_wieght = f1_score(y, final_preds, average=\"weighted\")\n",
        "\n",
        "  tn, fp, fn, tp = confusion_matrix(y, final_preds).ravel()\n",
        "\n",
        "  return acc, f1, f1_wieght, tn, fp, fn, tp"
      ]
    },
    {
      "cell_type": "code",
      "execution_count": null,
      "metadata": {
        "colab": {
          "base_uri": "https://localhost:8080/"
        },
        "id": "uks3eqLs2Ew3",
        "outputId": "2f244363-57fe-4008-8567-8fbe98730f91"
      },
      "outputs": [
        {
          "name": "stdout",
          "output_type": "stream",
          "text": [
            "acc_svm_ext: 0.76\n",
            "f1_svm_ext: 0.5\n",
            "f1_weight_svm_ext: 0.7873684210526315\n",
            "tn: 16 fp: 5 fn: 1 tp: 3\n",
            "\n",
            "\n",
            "acc_rf_ext: 0.76\n",
            "f1_rf_ext: 0.4\n",
            "f1_weight_rf_ext: 0.7780000000000001\n",
            "tn: 17 fp: 4 fn: 2 tp: 2\n",
            "\n",
            "\n",
            "acc_dt_ext: 0.76\n",
            "f1_dt_ext: 0.25\n",
            "f1_weight_dt_ext: 0.76\n",
            "tn: 18 fp: 3 fn: 3 tp: 1\n"
          ]
        }
      ],
      "source": [
        "X = padded_log_histograms_ext\n",
        "y = targets_ext\n",
        "\n",
        "acc_svm_ext, f1_svm_ext, f1_weight_svm_ext, tn, fp, fn, tp = ensemble_majority_weighted(X, y, cv_svms, acc_scores_svm)\n",
        "print('acc_svm_ext:', acc_svm_ext)\n",
        "print('f1_svm_ext:', f1_svm_ext)\n",
        "print('f1_weight_svm_ext:', f1_weight_svm_ext)\n",
        "print('tn:', tn, 'fp:', fp, 'fn:', fn, 'tp:', tp)\n",
        "print('\\n')\n",
        "\n",
        "acc_rf_ext, f1_rf_ext, f1_weight_rf_ext, tn, fp, fn, tp = ensemble_majority_weighted(X, y, cv_rfs, acc_scores_rf)\n",
        "print('acc_rf_ext:', acc_rf_ext)\n",
        "print('f1_rf_ext:', f1_rf_ext)\n",
        "print('f1_weight_rf_ext:', f1_weight_rf_ext)\n",
        "print('tn:', tn, 'fp:', fp, 'fn:', fn, 'tp:', tp)\n",
        "\n",
        "print('\\n')\n",
        "\n",
        "acc_dt_ext, f1_dt_ext, f1_weight_dt_ext, tn, fp, fn, tp = ensemble_majority_weighted(X, y, cv_dts, acc_scores_dt)\n",
        "print('acc_dt_ext:', acc_dt_ext)\n",
        "print('f1_dt_ext:', f1_dt_ext)\n",
        "print('f1_weight_dt_ext:', f1_weight_dt_ext)\n",
        "print('tn:', tn, 'fp:', fp, 'fn:', fn, 'tp:', tp)"
      ]
    },
    {
      "cell_type": "markdown",
      "metadata": {
        "id": "eWsyhffFueoi"
      },
      "source": [
        "# Combined internal + ext datasets"
      ]
    },
    {
      "cell_type": "code",
      "execution_count": null,
      "metadata": {
        "id": "ozg9OwJMtUlP"
      },
      "outputs": [],
      "source": [
        "total_pad_log = np.concatenate((padded_log_histograms_tr, padded_log_histograms_ts, padded_log_histograms_ext), axis=0)\n",
        "total_targets = np.concatenate((total_y_internal, targets_ext), axis=0)"
      ]
    },
    {
      "cell_type": "code",
      "execution_count": null,
      "metadata": {
        "id": "7K8z7TZnxFDs"
      },
      "outputs": [],
      "source": [
        "X = total_pad_log\n",
        "\n",
        "y = total_targets\n",
        "num_trials = 1\n",
        "n_splits = 6\n",
        "\n",
        "cv_svms = []\n",
        "cv_rfs = []\n",
        "cv_dts = []\n",
        "\n",
        "acc_scores_svm = []\n",
        "acc_scores_rf = []\n",
        "acc_scores_dt = []\n",
        "\n",
        "f1_scores_svm = []\n",
        "f1_scores_rf = []\n",
        "f1_scores_dt = []\n",
        "\n",
        "f1_weight_scores_svm = []\n",
        "f1_weight_scores_rf = []\n",
        "f1_weight_scores_dt = []\n",
        "\n",
        "outer_cv = StratifiedKFold(n_splits=n_splits, shuffle = True, random_state=1)\n",
        "\n",
        "# enumerate splits\n",
        "for train_index, test_index in outer_cv.split(X, y):\n",
        "  X_train, X_test = X[train_index, :], X[test_index, :]\n",
        "  y_train, y_test = y[train_index], y[test_index]\n",
        "  inner_cv = StratifiedKFold(n_splits=n_splits-1, shuffle=True, random_state=1)\n",
        "\t\n",
        "  #SVM\n",
        "  _, nested_svm = build_SVM(X_train, y_train, cv=inner_cv, print_res=False)\n",
        "  cv_svms.append(nested_svm)\n",
        "  pred = nested_svm.predict(X_test)\n",
        "  acc_scores_svm.append(accuracy_score(y_test, pred))\n",
        "  f1_scores_svm.append(f1_score(y_test, pred))\n",
        "  f1_weight_scores_svm.append(f1_score(y_test, pred, average=\"weighted\"))\n",
        "\n",
        "\n",
        "\n",
        "  #RF\n",
        "  _, nested_rf = build_random_forest(X_train, y_train, cv=inner_cv, print_res=False)\n",
        "  cv_rfs.append(nested_rf)\n",
        "  pred = nested_rf.predict(X_test)\n",
        "  acc_scores_rf.append(accuracy_score(y_test, pred))\n",
        "  f1_scores_rf.append(f1_score(y_test, pred))\n",
        "  f1_weight_scores_rf.append(f1_score(y_test, pred, average=\"weighted\"))\n",
        "\n",
        "\n",
        "  #DT\n",
        "  _, nested_dt = build_decision_tree(X_train, y_train, cv=inner_cv, print_res=False)\n",
        "  cv_dts.append(nested_dt)\n",
        "  pred = nested_dt.predict(X_test)\n",
        "  acc_scores_dt.append(accuracy_score(y_test, pred))\n",
        "  f1_scores_dt.append(f1_score(y_test, pred))\n",
        "  f1_weight_scores_dt.append(f1_score(y_test, pred, average=\"weighted\"))\n"
      ]
    },
    {
      "cell_type": "code",
      "execution_count": null,
      "metadata": {
        "colab": {
          "base_uri": "https://localhost:8080/"
        },
        "id": "KtYZ66uvxQ2t",
        "outputId": "219cb17c-2bd8-4356-faf5-f2ca52726f7d"
      },
      "outputs": [
        {
          "name": "stdout",
          "output_type": "stream",
          "text": [
            "acc_scores_svm: [0.9090909090909091, 0.7272727272727273, 0.7272727272727273, 0.6363636363636364, 0.7, 0.7]\n",
            "avg_acc_svm: 0.7333333333333333\n",
            "f1_scores_svm: [0.8571428571428571, 0.4, 0.7272727272727273, 0.6, 0.6666666666666665, 0.6666666666666665]\n",
            "avg_f1_svm: 0.6529581529581528\n",
            "f1_weight_scores_svm: [0.9056277056277057, 0.6695187165775401, 0.7272727272727273, 0.6424242424242425, 0.7030303030303029, 0.7030303030303029]\n",
            "avg_f1_weight_svm: 0.7251506663271369\n",
            "\n",
            "\n",
            "acc_scores_rf: [0.9090909090909091, 0.6363636363636364, 0.7272727272727273, 0.8181818181818182, 0.7, 0.9]\n",
            "avg_acc_rf: 0.7818181818181819\n",
            "f1_scores_rf: [0.8571428571428571, 0.0, 0.6666666666666665, 0.8, 0.6666666666666665, 0.888888888888889]\n",
            "avg_f1_rf: 0.6465608465608464\n",
            "f1_weight_scores_rf: [0.9056277056277057, 0.494949494949495, 0.7319347319347319, 0.8212121212121212, 0.7030303030303029, 0.901010101010101]\n",
            "avg_f1_weight_rf: 0.7596274096274097\n",
            "\n",
            "\n",
            "acc_scores_dt: [0.8181818181818182, 0.45454545454545453, 0.6363636363636364, 0.7272727272727273, 0.7, 0.9]\n",
            "avg_acc_dt: 0.7060606060606062\n",
            "f1_scores_dt: [0.75, 0.0, 0.5, 0.7272727272727273, 0.6666666666666665, 0.8571428571428571]\n",
            "avg_f1_dt: 0.5835137085137084\n",
            "f1_weight_scores_dt: [0.8181818181818182, 0.3977272727272728, 0.6363636363636364, 0.7272727272727273, 0.7030303030303029, 0.8967032967032967]\n",
            "avg_f1_weight_dt: 0.6965465090465092\n",
            "\n",
            "\n"
          ]
        }
      ],
      "source": [
        "avg_acc_svm = np.average(acc_scores_svm)\n",
        "print('acc_scores_svm:', acc_scores_svm)\n",
        "print('avg_acc_svm:', avg_acc_svm)\n",
        "avg_f1_svm = np.average(f1_scores_svm)\n",
        "print('f1_scores_svm:', f1_scores_svm)\n",
        "print('avg_f1_svm:', avg_f1_svm)\n",
        "avg_f1_weight_svm = np.average(f1_weight_scores_svm)\n",
        "print('f1_weight_scores_svm:', f1_weight_scores_svm)\n",
        "print('avg_f1_weight_svm:', avg_f1_weight_svm)\n",
        "print('\\n')\n",
        "\n",
        "avg_acc_rf = np.average(acc_scores_rf)\n",
        "print('acc_scores_rf:', acc_scores_rf)\n",
        "print('avg_acc_rf:', avg_acc_rf)\n",
        "avg_f1_rf = np.average(f1_scores_rf)\n",
        "print('f1_scores_rf:', f1_scores_rf)\n",
        "print('avg_f1_rf:', avg_f1_rf)\n",
        "avg_f1_weight_rf = np.average(f1_weight_scores_rf)\n",
        "print('f1_weight_scores_rf:', f1_weight_scores_rf)\n",
        "print('avg_f1_weight_rf:', avg_f1_weight_rf)\n",
        "print('\\n')\n",
        "\n",
        "avg_acc_dt = np.average(acc_scores_dt)\n",
        "print('acc_scores_dt:', acc_scores_dt)\n",
        "print('avg_acc_dt:', avg_acc_dt)\n",
        "avg_f1_dt = np.average(f1_scores_dt)\n",
        "print('f1_scores_dt:', f1_scores_dt)\n",
        "print('avg_f1_dt:', avg_f1_dt)\n",
        "avg_f1_weight_dt = np.average(f1_weight_scores_dt)\n",
        "print('f1_weight_scores_dt:', f1_weight_scores_dt)\n",
        "print('avg_f1_weight_dt:', avg_f1_weight_dt)\n",
        "print('\\n')"
      ]
    }
  ],
  "metadata": {
    "colab": {
      "provenance": []
    },
    "kernelspec": {
      "display_name": "Python 3 (ipykernel)",
      "language": "python",
      "name": "python3"
    },
    "language_info": {
      "codemirror_mode": {
        "name": "ipython",
        "version": 3
      },
      "file_extension": ".py",
      "mimetype": "text/x-python",
      "name": "python",
      "nbconvert_exporter": "python",
      "pygments_lexer": "ipython3",
      "version": "3.10.6"
    }
  },
  "nbformat": 4,
  "nbformat_minor": 0
}